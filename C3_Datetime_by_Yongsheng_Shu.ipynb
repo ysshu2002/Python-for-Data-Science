{
 "cells": [
  {
   "cell_type": "markdown",
   "metadata": {},
   "source": [
    "# Python datetime library"
   ]
  },
  {
   "cell_type": "code",
   "execution_count": 5,
   "metadata": {},
   "outputs": [],
   "source": [
    "\n",
    "from datetime import date\n",
    "from datetime import time\n",
    "from datetime import datetime\n",
    "from datetime import timedelta\n"
   ]
  },
  {
   "cell_type": "code",
   "execution_count": 6,
   "metadata": {},
   "outputs": [
    {
     "name": "stdout",
     "output_type": "stream",
     "text": [
      "<class 'datetime.datetime'>\n",
      "The current date and time is 2019-02-17 17:47:07.055358\n"
     ]
    }
   ],
   "source": [
    "today = datetime.now()\n",
    "print(type(today))\n",
    "print(\"The current date and time is\",today)"
   ]
  },
  {
   "cell_type": "markdown",
   "metadata": {},
   "source": [
    "## How to find current time?"
   ]
  },
  {
   "cell_type": "code",
   "execution_count": 7,
   "metadata": {},
   "outputs": [
    {
     "name": "stdout",
     "output_type": "stream",
     "text": [
      "Current time is  17:47:07.801963\n",
      "Current time is  2019-02-17\n"
     ]
    }
   ],
   "source": [
    "t = datetime.time(datetime.now())\n",
    "print(\"Current time is \",t)\n",
    "\n",
    "t = datetime.date(datetime.now())\n",
    "print(\"Current time is \",t)"
   ]
  },
  {
   "cell_type": "markdown",
   "metadata": {},
   "source": [
    "## How to find current weekday"
   ]
  },
  {
   "cell_type": "code",
   "execution_count": 8,
   "metadata": {},
   "outputs": [],
   "source": [
    "wd = date.weekday(today)"
   ]
  },
  {
   "cell_type": "code",
   "execution_count": 9,
   "metadata": {},
   "outputs": [
    {
     "name": "stdout",
     "output_type": "stream",
     "text": [
      "Week day for today is 6\n"
     ]
    }
   ],
   "source": [
    "print(\"Week day for today is\",wd)"
   ]
  },
  {
   "cell_type": "code",
   "execution_count": 10,
   "metadata": {},
   "outputs": [],
   "source": [
    "days = [\"Monday\",\"Tuesday\",\"Wednesday\",\"Thursday\",\"Friday\",\"Saturday\",\"Sunday\"]"
   ]
  },
  {
   "cell_type": "code",
   "execution_count": 11,
   "metadata": {},
   "outputs": [
    {
     "name": "stdout",
     "output_type": "stream",
     "text": [
      "Today is Sunday\n"
     ]
    }
   ],
   "source": [
    "print(\"Today is\",days[wd])"
   ]
  },
  {
   "cell_type": "code",
   "execution_count": null,
   "metadata": {},
   "outputs": [],
   "source": []
  },
  {
   "cell_type": "markdown",
   "metadata": {},
   "source": [
    "## Create datetime objects from strings"
   ]
  },
  {
   "cell_type": "code",
   "execution_count": 12,
   "metadata": {},
   "outputs": [
    {
     "name": "stdout",
     "output_type": "stream",
     "text": [
      "2021-10-20 00:00:00\n"
     ]
    }
   ],
   "source": [
    "my_date_string = \"10-20/2021\"\n",
    "format = \"%m-%d/%Y\"\n",
    "date_object = datetime.strptime(my_date_string,format)\n",
    "print(date_object)"
   ]
  },
  {
   "cell_type": "code",
   "execution_count": 13,
   "metadata": {},
   "outputs": [
    {
     "name": "stdout",
     "output_type": "stream",
     "text": [
      "Wednesday\n",
      "6\n"
     ]
    }
   ],
   "source": [
    "print(days[date_object.weekday()])\n",
    "print(today.weekday())"
   ]
  },
  {
   "cell_type": "code",
   "execution_count": 14,
   "metadata": {},
   "outputs": [
    {
     "name": "stdout",
     "output_type": "stream",
     "text": [
      "2019\n"
     ]
    }
   ],
   "source": [
    "now = datetime.now()\n",
    "year = now.strftime(\"%Y\")\n",
    "print(year)"
   ]
  },
  {
   "cell_type": "code",
   "execution_count": 15,
   "metadata": {},
   "outputs": [
    {
     "name": "stdout",
     "output_type": "stream",
     "text": [
      "19\n"
     ]
    }
   ],
   "source": [
    "year = now.strftime(\"%y\")\n",
    "print(year)"
   ]
  },
  {
   "cell_type": "code",
   "execution_count": 16,
   "metadata": {},
   "outputs": [
    {
     "name": "stdout",
     "output_type": "stream",
     "text": [
      "Sun 17 Feb 19\n"
     ]
    },
    {
     "data": {
      "text/plain": [
       "'Sun 17 Feb 19'"
      ]
     },
     "execution_count": 16,
     "metadata": {},
     "output_type": "execute_result"
    }
   ],
   "source": [
    "print(now.strftime(\"%a %d %b %y\"))\n",
    "n = now.strftime(\"%a %d %b %y\")\n",
    "n"
   ]
  },
  {
   "cell_type": "code",
   "execution_count": 17,
   "metadata": {},
   "outputs": [
    {
     "name": "stdout",
     "output_type": "stream",
     "text": [
      "Sunday 17 February 19\n"
     ]
    }
   ],
   "source": [
    "print(now.strftime(\"%A %d %B %y\"))"
   ]
  },
  {
   "cell_type": "code",
   "execution_count": 18,
   "metadata": {},
   "outputs": [
    {
     "name": "stdout",
     "output_type": "stream",
     "text": [
      "Sun Feb 17 17:47:09 2019\n",
      "02/17/19\n",
      "17:47:09\n"
     ]
    }
   ],
   "source": [
    "print(now.strftime(\"%c\"))\n",
    "print(now.strftime(\"%x\"))\n",
    "print(now.strftime(\"%X\"))"
   ]
  },
  {
   "cell_type": "code",
   "execution_count": 19,
   "metadata": {},
   "outputs": [
    {
     "name": "stdout",
     "output_type": "stream",
     "text": [
      "05 47 :  09      -  PM\n"
     ]
    }
   ],
   "source": [
    "print(now.strftime(\"%I %M :  %S      -  %p\")) # 12-hour:minute:second"
   ]
  },
  {
   "cell_type": "code",
   "execution_count": 20,
   "metadata": {},
   "outputs": [
    {
     "name": "stdout",
     "output_type": "stream",
     "text": [
      "17:  47:  09 PM\n"
     ]
    }
   ],
   "source": [
    "print(now.strftime(\"%H:  %M:  %S %p\")) # 24-hour:minute:second"
   ]
  },
  {
   "cell_type": "markdown",
   "metadata": {},
   "source": [
    "## How to add and subtract days, hours, minutes"
   ]
  },
  {
   "cell_type": "code",
   "execution_count": 21,
   "metadata": {},
   "outputs": [
    {
     "name": "stdout",
     "output_type": "stream",
     "text": [
      "365 days, 8:15:30\n",
      "<class 'datetime.timedelta'>\n"
     ]
    }
   ],
   "source": [
    "td = timedelta(days=365,hours=8,minutes=15,          seconds=30)\n",
    "print(td)\n",
    "print(type(td))"
   ]
  },
  {
   "cell_type": "code",
   "execution_count": 22,
   "metadata": {},
   "outputs": [
    {
     "name": "stdout",
     "output_type": "stream",
     "text": [
      "2019-02-17 17:47:11.302236\n"
     ]
    }
   ],
   "source": [
    "now = datetime.now()\n",
    "print(now)"
   ]
  },
  {
   "cell_type": "markdown",
   "metadata": {},
   "source": [
    "## How can I add 25 days to now"
   ]
  },
  {
   "cell_type": "code",
   "execution_count": 23,
   "metadata": {},
   "outputs": [
    {
     "name": "stdout",
     "output_type": "stream",
     "text": [
      "2019-03-14 17:47:11.642938\n"
     ]
    }
   ],
   "source": [
    "new_date = datetime.now() + timedelta(days=25)\n",
    "print(new_date)"
   ]
  },
  {
   "cell_type": "code",
   "execution_count": 24,
   "metadata": {},
   "outputs": [
    {
     "name": "stdout",
     "output_type": "stream",
     "text": [
      "2019-02-02 17:47:11.808046\n",
      "<class 'datetime.datetime'>\n"
     ]
    }
   ],
   "source": [
    "old_date = datetime.now() - timedelta(days=15)\n",
    "print(old_date)\n",
    "print(type(old_date))"
   ]
  },
  {
   "cell_type": "code",
   "execution_count": null,
   "metadata": {},
   "outputs": [],
   "source": []
  },
  {
   "cell_type": "markdown",
   "metadata": {},
   "source": [
    "## How to add correction for date/time when you want to change from EST to PST?"
   ]
  },
  {
   "cell_type": "code",
   "execution_count": 25,
   "metadata": {},
   "outputs": [
    {
     "name": "stdout",
     "output_type": "stream",
     "text": [
      "2019-02-18 01:47:12.316684\n"
     ]
    }
   ],
   "source": [
    "utc = datetime.utcnow()\n",
    "print(utc)\n"
   ]
  },
  {
   "cell_type": "code",
   "execution_count": 26,
   "metadata": {},
   "outputs": [
    {
     "name": "stdout",
     "output_type": "stream",
     "text": [
      "2019-02-17 21:47:12.316684\n"
     ]
    }
   ],
   "source": [
    "nyt = utc - timedelta(hours=4)\n",
    "print(nyt)"
   ]
  },
  {
   "cell_type": "code",
   "execution_count": 27,
   "metadata": {},
   "outputs": [
    {
     "name": "stdout",
     "output_type": "stream",
     "text": [
      "2019-02-17 18:47:12.316684\n"
     ]
    }
   ],
   "source": [
    "cal = utc - timedelta(hours=7)\n",
    "print(cal)"
   ]
  },
  {
   "cell_type": "markdown",
   "metadata": {},
   "source": [
    "## How many days since the new year?"
   ]
  },
  {
   "cell_type": "code",
   "execution_count": 28,
   "metadata": {},
   "outputs": [
    {
     "name": "stdout",
     "output_type": "stream",
     "text": [
      "2019-02-17\n",
      "<class 'datetime.date'>\n",
      "2019\n",
      "2019-01-01\n",
      "<class 'datetime.date'>\n"
     ]
    }
   ],
   "source": [
    "today = date.today() \n",
    "print(today)\n",
    "print(type(today))\n",
    "print(today.year)\n",
    "nyd = date(today.year,1,1)\n",
    "print(nyd)\n",
    "print(type(nyd))"
   ]
  },
  {
   "cell_type": "code",
   "execution_count": 29,
   "metadata": {},
   "outputs": [
    {
     "name": "stdout",
     "output_type": "stream",
     "text": [
      "47\n"
     ]
    }
   ],
   "source": [
    "days_from_nyd = (today - nyd).days\n",
    "print(days_from_nyd)"
   ]
  },
  {
   "cell_type": "markdown",
   "metadata": {},
   "source": [
    "# Ex1 \n",
    "## Find seconds, mins, hours, and days from now to July 4, 2019."
   ]
  },
  {
   "cell_type": "code",
   "execution_count": 30,
   "metadata": {},
   "outputs": [
    {
     "name": "stdout",
     "output_type": "stream",
     "text": [
      "136 days, 6:12:46.457598\n"
     ]
    }
   ],
   "source": [
    "# Your code here\n",
    "now = datetime.now()\n",
    "future = \"07-04-2019\"\n",
    "format = \"%m-%d-%Y\"\n",
    "future_time = datetime.strptime(future,format)\n",
    "dt = future_time- now\n",
    "print(dt)\n",
    "#print(type(dt))"
   ]
  },
  {
   "cell_type": "markdown",
   "metadata": {},
   "source": [
    "# Ex 2\n",
    "## 2a) Read Kaggle's stock price file: \"all_stocks_5yr.csv\"\n",
    "## 2b) Extract AAPL's closing price for Mondays in 2017\n",
    "## 2c) Sum all closing prices from step 2b\n",
    "## 2d) Find average of AAPL's closing prices from step 2c"
   ]
  },
  {
   "cell_type": "code",
   "execution_count": 31,
   "metadata": {},
   "outputs": [],
   "source": [
    "# https://www.kaggle.com/camnugent/sandp500\n",
    "def aapl_mon_2017_closing_price_sum_average(filename):\n",
    "    file_open = open(filename,\"r\")\n",
    "    line_count = 0\n",
    "    sum = 0\n",
    "    print(\"AAPL's closing price for Mondays in 2017\")\n",
    "    for line in iter(file_open):\n",
    "        if \"AAPL\" not in line:\n",
    "            continue\n",
    "        line_newline = line.rstrip()\n",
    "        line_split = line_newline.split(\",\")\n",
    "        #print(line_split)\n",
    "        time = datetime.strptime(line_split[0], \"%Y-%m-%d\")\n",
    "        year = time.year\n",
    "        wd = date.weekday(time)\n",
    "        if (year==2017 and wd==0):\n",
    "            print(line_split[4], end=\" \")\n",
    "            line_count += 1\n",
    "            sum += float(line_split[4])\n",
    "    print(\"\\n\")\n",
    "    print(\"Sum of AAPL's closing price for Mondays in 2017\")\n",
    "    print(sum)\n",
    "    print()\n",
    "    print(\"Average of AAPL's closing prices for Mondays in 2017\")\n",
    "    print(round(sum/line_count, 4))"
   ]
  },
  {
   "cell_type": "code",
   "execution_count": 32,
   "metadata": {},
   "outputs": [
    {
     "name": "stdout",
     "output_type": "stream",
     "text": [
      "AAPL's closing price for Mondays in 2017\n",
      "118.99 120.08 121.63 130.29 133.29 136.93 139.34 139.2 141.46 140.88 143.7 143.17 141.83 143.64 146.58 153.01 155.7 153.99 153.93 145.42 146.34 145.82 143.5 145.06 149.56 152.09 148.73 158.81 159.85 157.21 161.47 161.5 158.67 150.55 153.81 155.84 159.88 156.17 166.72 174.25 173.97 169.98 174.09 169.8 172.67 176.42 \n",
      "\n",
      "Sum of AAPL's closing price for Mondays in 2017\n",
      "6945.820000000002\n",
      "\n",
      "Average of AAPL's closing prices for Mondays in 2017\n",
      "150.9961\n"
     ]
    }
   ],
   "source": [
    "# Your code here\n",
    "aapl_mon_2017_closing_price_sum_average(\"all_stocks_5yr.csv\")"
   ]
  },
  {
   "cell_type": "code",
   "execution_count": null,
   "metadata": {},
   "outputs": [],
   "source": []
  }
 ],
 "metadata": {
  "kernelspec": {
   "display_name": "Python 3",
   "language": "python",
   "name": "python3"
  },
  "language_info": {
   "codemirror_mode": {
    "name": "ipython",
    "version": 3
   },
   "file_extension": ".py",
   "mimetype": "text/x-python",
   "name": "python",
   "nbconvert_exporter": "python",
   "pygments_lexer": "ipython3",
   "version": "3.6.7"
  }
 },
 "nbformat": 4,
 "nbformat_minor": 2
}
