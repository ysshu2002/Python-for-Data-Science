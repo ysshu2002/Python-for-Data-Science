{
 "cells": [
  {
   "cell_type": "markdown",
   "metadata": {},
   "source": [
    "# Python datetime library"
   ]
  },
  {
   "cell_type": "code",
   "execution_count": 2,
   "metadata": {},
   "outputs": [],
   "source": [
    "\n",
    "from datetime import date\n",
    "from datetime import time\n",
    "from datetime import datetime\n",
    "from datetime import timedelta\n"
   ]
  },
  {
   "cell_type": "code",
   "execution_count": 6,
   "metadata": {},
   "outputs": [
    {
     "name": "stdout",
     "output_type": "stream",
     "text": [
      "<class 'datetime.datetime'>\n",
      "The current date and time is 2019-02-16 16:06:38.129514\n"
     ]
    }
   ],
   "source": [
    "today = datetime.now()\n",
    "print(type(today))\n",
    "print(\"The current date and time is\",today)"
   ]
  },
  {
   "cell_type": "markdown",
   "metadata": {},
   "source": [
    "## How to find current time?"
   ]
  },
  {
   "cell_type": "code",
   "execution_count": 4,
   "metadata": {},
   "outputs": [
    {
     "name": "stdout",
     "output_type": "stream",
     "text": [
      "Current time is  15:34:23.188751\n",
      "Current time is  2019-02-16\n"
     ]
    }
   ],
   "source": [
    "t = datetime.time(datetime.now())\n",
    "print(\"Current time is \",t)\n",
    "\n",
    "t = datetime.date(datetime.now())\n",
    "print(\"Current time is \",t)"
   ]
  },
  {
   "cell_type": "markdown",
   "metadata": {},
   "source": [
    "## How to find current weekday"
   ]
  },
  {
   "cell_type": "code",
   "execution_count": 47,
   "metadata": {},
   "outputs": [],
   "source": [
    "wd = date.weekday(today)"
   ]
  },
  {
   "cell_type": "code",
   "execution_count": 48,
   "metadata": {},
   "outputs": [
    {
     "name": "stdout",
     "output_type": "stream",
     "text": [
      "Week day for today is 5\n"
     ]
    }
   ],
   "source": [
    "print(\"Week day for today is\",wd)"
   ]
  },
  {
   "cell_type": "code",
   "execution_count": 7,
   "metadata": {},
   "outputs": [],
   "source": [
    "days = [\"Monday\",\"Tuesday\",\"Wednesday\",\"Thursday\",\"Friday\",\"Saturday\",\"Sunday\"]"
   ]
  },
  {
   "cell_type": "code",
   "execution_count": 8,
   "metadata": {},
   "outputs": [
    {
     "name": "stdout",
     "output_type": "stream",
     "text": [
      "Today is Saturday\n"
     ]
    }
   ],
   "source": [
    "print(\"Today is\",days[wd])"
   ]
  },
  {
   "cell_type": "code",
   "execution_count": null,
   "metadata": {},
   "outputs": [],
   "source": []
  },
  {
   "cell_type": "markdown",
   "metadata": {},
   "source": [
    "## Create datetime objects from strings"
   ]
  },
  {
   "cell_type": "code",
   "execution_count": 13,
   "metadata": {},
   "outputs": [
    {
     "name": "stdout",
     "output_type": "stream",
     "text": [
      "2021-10-20 00:00:00\n"
     ]
    }
   ],
   "source": [
    "my_date_string = \"10-20/2021\"\n",
    "format = \"%m-%d/%Y\"\n",
    "date_object = datetime.strptime(my_date_string,format)\n",
    "print(date_object)"
   ]
  },
  {
   "cell_type": "code",
   "execution_count": 14,
   "metadata": {},
   "outputs": [
    {
     "name": "stdout",
     "output_type": "stream",
     "text": [
      "Wednesday\n",
      "5\n"
     ]
    }
   ],
   "source": [
    "print(days[date_object.weekday()])\n",
    "print(today.weekday())"
   ]
  },
  {
   "cell_type": "code",
   "execution_count": 15,
   "metadata": {},
   "outputs": [
    {
     "name": "stdout",
     "output_type": "stream",
     "text": [
      "2019\n"
     ]
    }
   ],
   "source": [
    "now = datetime.now()\n",
    "year = now.strftime(\"%Y\")\n",
    "print(year)"
   ]
  },
  {
   "cell_type": "code",
   "execution_count": 16,
   "metadata": {},
   "outputs": [
    {
     "name": "stdout",
     "output_type": "stream",
     "text": [
      "19\n"
     ]
    }
   ],
   "source": [
    "year = now.strftime(\"%y\")\n",
    "print(year)"
   ]
  },
  {
   "cell_type": "code",
   "execution_count": 29,
   "metadata": {},
   "outputs": [
    {
     "name": "stdout",
     "output_type": "stream",
     "text": [
      "Sat 16 Feb 19\n"
     ]
    },
    {
     "data": {
      "text/plain": [
       "'Sat 16 Feb 19'"
      ]
     },
     "execution_count": 29,
     "metadata": {},
     "output_type": "execute_result"
    }
   ],
   "source": [
    "print(now.strftime(\"%a %d %b %y\"))\n",
    "n = now.strftime(\"%a %d %b %y\")\n",
    "n"
   ]
  },
  {
   "cell_type": "code",
   "execution_count": 30,
   "metadata": {},
   "outputs": [
    {
     "name": "stdout",
     "output_type": "stream",
     "text": [
      "Saturday 16 February 19\n"
     ]
    }
   ],
   "source": [
    "print(now.strftime(\"%A %d %B %y\"))"
   ]
  },
  {
   "cell_type": "code",
   "execution_count": 33,
   "metadata": {},
   "outputs": [
    {
     "name": "stdout",
     "output_type": "stream",
     "text": [
      "Sat Feb 16 15:37:52 2019\n",
      "02/16/19\n",
      "15:37:52\n"
     ]
    }
   ],
   "source": [
    "print(now.strftime(\"%c\"))\n",
    "print(now.strftime(\"%x\"))\n",
    "print(now.strftime(\"%X\"))"
   ]
  },
  {
   "cell_type": "code",
   "execution_count": 48,
   "metadata": {},
   "outputs": [
    {
     "name": "stdout",
     "output_type": "stream",
     "text": [
      "03 37 :  52      -  PM\n"
     ]
    }
   ],
   "source": [
    "print(now.strftime(\"%I %M :  %S      -  %p\")) # 12-hour:minute:second"
   ]
  },
  {
   "cell_type": "code",
   "execution_count": 47,
   "metadata": {},
   "outputs": [
    {
     "name": "stdout",
     "output_type": "stream",
     "text": [
      "15:  37:  52    PM\n"
     ]
    }
   ],
   "source": [
    "print(now.strftime(\"%H:  %M:  %S %p\")) # 24-hour:minute:second"
   ]
  },
  {
   "cell_type": "markdown",
   "metadata": {},
   "source": [
    "## How to add and subtract days, hours, minutes"
   ]
  },
  {
   "cell_type": "code",
   "execution_count": 52,
   "metadata": {},
   "outputs": [
    {
     "name": "stdout",
     "output_type": "stream",
     "text": [
      "365 days, 8:15:30\n",
      "<class 'datetime.timedelta'>\n"
     ]
    }
   ],
   "source": [
    "td = timedelta(days=365,hours=8,minutes=15,          seconds=30)\n",
    "print(td)\n",
    "print(type(td))"
   ]
  },
  {
   "cell_type": "code",
   "execution_count": 55,
   "metadata": {},
   "outputs": [
    {
     "name": "stdout",
     "output_type": "stream",
     "text": [
      "2019-02-16 15:59:32.317235\n"
     ]
    }
   ],
   "source": [
    "now = datetime.now()\n",
    "print(now)"
   ]
  },
  {
   "cell_type": "markdown",
   "metadata": {},
   "source": [
    "## How can I add 25 days to now"
   ]
  },
  {
   "cell_type": "code",
   "execution_count": 26,
   "metadata": {},
   "outputs": [
    {
     "name": "stdout",
     "output_type": "stream",
     "text": [
      "2019-03-06 11:08:29.527956\n"
     ]
    }
   ],
   "source": [
    "new_date = datetime.now() + timedelta(days=25)\n",
    "print(new_date)"
   ]
  },
  {
   "cell_type": "code",
   "execution_count": 28,
   "metadata": {},
   "outputs": [
    {
     "name": "stdout",
     "output_type": "stream",
     "text": [
      "2019-01-25 11:09:18.262288\n",
      "<class 'datetime.datetime'>\n"
     ]
    }
   ],
   "source": [
    "old_date = datetime.now() - timedelta(days=15)\n",
    "print(old_date)\n",
    "print(type(old_date))"
   ]
  },
  {
   "cell_type": "code",
   "execution_count": null,
   "metadata": {},
   "outputs": [],
   "source": []
  },
  {
   "cell_type": "markdown",
   "metadata": {},
   "source": [
    "## How to add correction for date/time when you want to change from EST to PST?"
   ]
  },
  {
   "cell_type": "code",
   "execution_count": 54,
   "metadata": {},
   "outputs": [
    {
     "name": "stdout",
     "output_type": "stream",
     "text": [
      "2019-02-16 23:57:12.992688\n"
     ]
    }
   ],
   "source": [
    "utc = datetime.utcnow()\n",
    "print(utc)\n"
   ]
  },
  {
   "cell_type": "code",
   "execution_count": 27,
   "metadata": {},
   "outputs": [
    {
     "name": "stdout",
     "output_type": "stream",
     "text": [
      "2019-02-10 21:09:23.901510\n"
     ]
    }
   ],
   "source": [
    "nyt = utc - timedelta(hours=4)\n",
    "print(nyt)"
   ]
  },
  {
   "cell_type": "code",
   "execution_count": 28,
   "metadata": {},
   "outputs": [
    {
     "name": "stdout",
     "output_type": "stream",
     "text": [
      "2019-02-10 18:09:23.901510\n"
     ]
    }
   ],
   "source": [
    "cal = utc - timedelta(hours=7)\n",
    "print(cal)"
   ]
  },
  {
   "cell_type": "markdown",
   "metadata": {},
   "source": [
    "## How many days since the new year?"
   ]
  },
  {
   "cell_type": "code",
   "execution_count": 10,
   "metadata": {},
   "outputs": [
    {
     "name": "stdout",
     "output_type": "stream",
     "text": [
      "2019-02-16\n",
      "<class 'datetime.date'>\n",
      "2019\n",
      "2019-01-01\n",
      "<class 'datetime.date'>\n"
     ]
    }
   ],
   "source": [
    "today = date.today() \n",
    "print(today)\n",
    "print(type(today))\n",
    "print(today.year)\n",
    "nyd = date(today.year,1,1)\n",
    "print(nyd)\n",
    "print(type(nyd))"
   ]
  },
  {
   "cell_type": "code",
   "execution_count": 11,
   "metadata": {},
   "outputs": [
    {
     "name": "stdout",
     "output_type": "stream",
     "text": [
      "46\n"
     ]
    }
   ],
   "source": [
    "days_from_nyd = (today - nyd).days\n",
    "print(days_from_nyd)"
   ]
  },
  {
   "cell_type": "markdown",
   "metadata": {},
   "source": [
    "# Ex1 \n",
    "## Find seconds, mins, hours, and days from now to July 4, 2019."
   ]
  },
  {
   "cell_type": "code",
   "execution_count": 92,
   "metadata": {},
   "outputs": [
    {
     "name": "stdout",
     "output_type": "stream",
     "text": [
      "137 days, 6:26:39.368167\n"
     ]
    }
   ],
   "source": [
    "# Your code here\n",
    "now = datetime.now()\n",
    "future = \"07-04-2019\"\n",
    "format = \"%m-%d-%Y\"\n",
    "future_time = datetime.strptime(future,format)\n",
    "dt = future_time- now\n",
    "print(dt)\n",
    "#print(type(dt))"
   ]
  },
  {
   "cell_type": "markdown",
   "metadata": {},
   "source": [
    "# Ex 2\n",
    "## 2a) Read Kaggle's stock price file: \"all_stocks_5yr.csv\"\n",
    "## 2b) Extract AAPL's closing price for Mondays in 2017\n",
    "## 2c) Sum all closing prices from step 2b\n",
    "## 2d) Find average of AAPL's closing prices from step 2c"
   ]
  },
  {
   "cell_type": "code",
   "execution_count": 93,
   "metadata": {},
   "outputs": [],
   "source": [
    "# https://www.kaggle.com/camnugent/sandp500\n",
    "def aapl_mon_2017_closing_price_sum_average(filename):\n",
    "    file_open = open(filename,\"r\")\n",
    "    line_count = 0\n",
    "    sum = 0\n",
    "    print(\"AAPL's closing price for Mondays in 2017\")\n",
    "    for line in iter(file_open):\n",
    "        if \"AAPL\" not in line:\n",
    "            continue\n",
    "        line_newline = line.rstrip()\n",
    "        line_split = line_newline.split(\",\")\n",
    "        #print(line_split)\n",
    "        time = datetime.strptime(line_split[0], \"%Y-%m-%d\")\n",
    "        year = time.year\n",
    "        wd = date.weekday(time)\n",
    "        if (year==2013 and wd==0):\n",
    "            print(line_split[4], end=\" \")\n",
    "            line_count += 1\n",
    "            sum += float(line_split[4])\n",
    "    print(\"\\n\")\n",
    "    print(\"Sum of AAPL's closing price for Mondays in 2017\")\n",
    "    print(sum)\n",
    "    print()\n",
    "    print(\"Average of AAPL's closing prices for Mondays in 2017\")\n",
    "    print(round(sum/line_count, 4))"
   ]
  },
  {
   "cell_type": "code",
   "execution_count": 94,
   "metadata": {},
   "outputs": [
    {
     "name": "stdout",
     "output_type": "stream",
     "text": [
      "AAPL's closing price for Mondays in 2017\n",
      "68.5614 63.2571 60.0071 62.5528 65.1028 66.2256 61.2728 60.8871 59.9785 56.9528 61.4457 65.8156 64.9628 63.2757 64.3885 62.6985 61.7142 57.5057 58.4599 59.2928 61.0628 60.9014 63.9699 67.0642 66.7656 72.5342 71.8528 72.3099 64.3028 70.0914 68.1071 69.6785 70.8628 74.4802 75.6965 75.2499 74.1496 74.0898 74.8199 78.7471 80.9185 79.6428 81.4413 79.2171 \n",
      "\n",
      "Sum of AAPL's closing price for Mondays in 2017\n",
      "2972.3135\n",
      "\n",
      "Average of AAPL's closing prices for Mondays in 2017\n",
      "67.5526\n"
     ]
    }
   ],
   "source": [
    "# Your code here\n",
    "aapl_mon_2017_closing_price_sum_average(\"all_stocks_5yr.csv\")"
   ]
  },
  {
   "cell_type": "code",
   "execution_count": null,
   "metadata": {},
   "outputs": [],
   "source": []
  }
 ],
 "metadata": {
  "kernelspec": {
   "display_name": "Python 3",
   "language": "python",
   "name": "python3"
  },
  "language_info": {
   "codemirror_mode": {
    "name": "ipython",
    "version": 3
   },
   "file_extension": ".py",
   "mimetype": "text/x-python",
   "name": "python",
   "nbconvert_exporter": "python",
   "pygments_lexer": "ipython3",
   "version": "3.6.7"
  }
 },
 "nbformat": 4,
 "nbformat_minor": 2
}
