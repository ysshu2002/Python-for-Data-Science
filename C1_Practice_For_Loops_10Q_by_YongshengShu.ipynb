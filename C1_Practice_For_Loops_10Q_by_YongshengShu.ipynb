{
 "cells": [
  {
   "cell_type": "markdown",
   "metadata": {},
   "source": [
    "# Python practice problems with for loops, dict, input"
   ]
  },
  {
   "cell_type": "code",
   "execution_count": 1,
   "metadata": {},
   "outputs": [],
   "source": [
    "# Review Python \"input\" # this should help with assignments below"
   ]
  },
  {
   "cell_type": "code",
   "execution_count": 7,
   "metadata": {},
   "outputs": [
    {
     "name": "stdout",
     "output_type": "stream",
     "text": [
      "Which year will be next summer Olympics? 2020\n"
     ]
    }
   ],
   "source": [
    "Olympic_year = input(\"Which year will be next summer Olympics? \")"
   ]
  },
  {
   "cell_type": "code",
   "execution_count": 8,
   "metadata": {},
   "outputs": [
    {
     "name": "stdout",
     "output_type": "stream",
     "text": [
      "<class 'str'>\n"
     ]
    }
   ],
   "source": [
    "print(type(Olympic_year)) # it is string"
   ]
  },
  {
   "cell_type": "code",
   "execution_count": 9,
   "metadata": {},
   "outputs": [
    {
     "name": "stdout",
     "output_type": "stream",
     "text": [
      "<class 'int'>\n"
     ]
    }
   ],
   "source": [
    "print(type(int(Olympic_year))) # it is integer"
   ]
  },
  {
   "cell_type": "markdown",
   "metadata": {},
   "source": [
    "1) Write a for loop to print \"Hello\" 10 times."
   ]
  },
  {
   "cell_type": "code",
   "execution_count": 10,
   "metadata": {},
   "outputs": [
    {
     "name": "stdout",
     "output_type": "stream",
     "text": [
      "Hello\n",
      "Hello\n",
      "Hello\n",
      "Hello\n",
      "Hello\n",
      "Hello\n",
      "Hello\n",
      "Hello\n",
      "Hello\n",
      "Hello\n"
     ]
    }
   ],
   "source": [
    "# Write code here ...\n",
    "for i in range(10):\n",
    "    print(\"Hello\")\n"
   ]
  },
  {
   "cell_type": "markdown",
   "metadata": {},
   "source": [
    "2) Write a for loop to print even numbers in the range 1 .. 20"
   ]
  },
  {
   "cell_type": "code",
   "execution_count": 11,
   "metadata": {},
   "outputs": [
    {
     "name": "stdout",
     "output_type": "stream",
     "text": [
      "2\n",
      "4\n",
      "6\n",
      "8\n",
      "10\n",
      "12\n",
      "14\n",
      "16\n",
      "18\n"
     ]
    }
   ],
   "source": [
    "# Write code here ...\n",
    "for i in range(2,20,2):\n",
    "    print(i)"
   ]
  },
  {
   "cell_type": "code",
   "execution_count": null,
   "metadata": {},
   "outputs": [],
   "source": [
    "\"\"\"\n",
    "3) Define a list of animals to be as follows:\n",
    "animals = [\"lion\",\"tiger\",\"elephant\",\"giraffe\",\"zebra\"]\n",
    "\n",
    "Now print animal names using for loop. The output should be as follows:\n",
    "1 lion\n",
    "2 tiger\n",
    "3 elephant\n",
    "4 giraffe\n",
    "5 zebra\n",
    "\"\"\""
   ]
  },
  {
   "cell_type": "code",
   "execution_count": 12,
   "metadata": {},
   "outputs": [
    {
     "name": "stdout",
     "output_type": "stream",
     "text": [
      "lion\n",
      "tiger\n",
      "elephant\n",
      "giraffe\n",
      "zebra\n"
     ]
    }
   ],
   "source": [
    "# Write code here ...\n",
    "animals = [\"lion\",\"tiger\",\"elephant\",\"giraffe\",\"zebra\"]\n",
    "for animal in animals:\n",
    "    print(animal)"
   ]
  },
  {
   "cell_type": "code",
   "execution_count": null,
   "metadata": {},
   "outputs": [],
   "source": [
    "\"\"\"\n",
    "4) Visiting moon every year for next 10 years\n",
    "The weight on moon can be estimated to be 18%  of weight on earth.\n",
    "Write a program which will ask the user to enter current earth weight.\n",
    "Then calculate weight on moon. Assume our weight increases by 2 pounds every year on earth.\n",
    "\n",
    "Use for loop to print weight on moon each year when you visit.\n",
    "\"\"\""
   ]
  },
  {
   "cell_type": "code",
   "execution_count": 48,
   "metadata": {},
   "outputs": [
    {
     "name": "stdout",
     "output_type": "stream",
     "text": [
      "current earth weight 100\n",
      "Year 1 moon weight is 18.36\n",
      "Year 2 moon weight is 18.72\n",
      "Year 3 moon weight is 19.08\n",
      "Year 4 moon weight is 19.44\n",
      "Year 5 moon weight is 19.80\n",
      "Year 6 moon weight is 20.16\n",
      "Year 7 moon weight is 20.52\n",
      "Year 8 moon weight is 20.88\n",
      "Year 9 moon weight is 21.24\n",
      "Year 10 moon weight is 21.60\n"
     ]
    }
   ],
   "source": [
    "# Write code here ...\n",
    "weight_current = input(\"current earth weight \")\n",
    "for year in range(10):\n",
    "    year += 1\n",
    "    weight_current = int(weight_current)\n",
    "    moon_weight = (weight_current + 2*year) * 0.18\n",
    "    print(\"Year {} moon weight is {:.2f}\".format(year, moon_weight))"
   ]
  },
  {
   "cell_type": "markdown",
   "metadata": {},
   "source": [
    "5) Write a for loop to find the sum of all numbers from 1 to 100; 1 + 2 + ... + 99 + 100"
   ]
  },
  {
   "cell_type": "code",
   "execution_count": 55,
   "metadata": {},
   "outputs": [
    {
     "name": "stdout",
     "output_type": "stream",
     "text": [
      "5050\n"
     ]
    }
   ],
   "source": [
    "# Write code here ...\n",
    "sum = 0\n",
    "for i in range(1,101):\n",
    "    sum += i\n",
    "print(sum)"
   ]
  },
  {
   "cell_type": "markdown",
   "metadata": {},
   "source": [
    "6) Write a for loop which will ask the user to input 4 numbers. The program should calculate sum of 4 numbers and print the sum."
   ]
  },
  {
   "cell_type": "code",
   "execution_count": 63,
   "metadata": {},
   "outputs": [
    {
     "name": "stdout",
     "output_type": "stream",
     "text": [
      "number 1 is 1\n",
      "number 2 is 2\n",
      "number 3 is 3\n",
      "number 4 is 4\n",
      "The sum of your 4 input numbers is 10\n"
     ]
    }
   ],
   "source": [
    "# Write code here ...\n",
    "sum = 0\n",
    "for i in range(1,5):\n",
    "    n = int(input(\"number {} is \".format(i)))\n",
    "    sum += n\n",
    "print(\"The sum of your 4 input numbers is {}\".format(sum))"
   ]
  },
  {
   "cell_type": "markdown",
   "metadata": {},
   "source": [
    "7) Write a Python for loop to find product of even number from 1 to 50;\n",
    "2 x 4 x 6 x 8 x ... x 42 x 44 x 46 x 50"
   ]
  },
  {
   "cell_type": "code",
   "execution_count": 69,
   "metadata": {},
   "outputs": [
    {
     "name": "stdout",
     "output_type": "stream",
     "text": [
      "520469842636666622693081088000000\n"
     ]
    }
   ],
   "source": [
    "# Write code here ...\n",
    "product = 1\n",
    "for n in range(2,51,2):\n",
    "    product *= n\n",
    "print(product)"
   ]
  },
  {
   "cell_type": "markdown",
   "metadata": {},
   "source": [
    "8a) Find the index of minimum and maximum number in MyList."
   ]
  },
  {
   "cell_type": "code",
   "execution_count": 30,
   "metadata": {},
   "outputs": [],
   "source": [
    "myList = [46, 84, 43, 75, 94, 7, 17, 76, 44, 17, 81, 21, 70, 56, 98, 88, 59, 58, 62, 77, \n",
    "          56, 19, 83, 82, 2, 38, 8, 57, 80, 54, 71, 74, 77, 18, 66, 25, 60, 29, 30, 11, \n",
    "          45, 60, 92, 44, 71, 49, 22, 74, 30, 58, 73, 60, 14, 97, 13, 78, 42, 17, 98, 14, \n",
    "          19, 79, 54, 56, 84, 81, 49, 18, 95, 36, 84, 77, 44, 69, 48, 94, 66, 13, 96, 7, \n",
    "          9, 47, 4, 37, 71, 51, 9, 28, 92, 38, 75, 66, 2, 34, 88, 4, 43, 75, 57, 83,\n",
    "          63, 17, 25, 98, 71, 95, 1, 86, 97, 90, 6, 96, 11, 49, 16, 91, 50, 66, 54, 94,\n",
    "          75, 69, 97, 23, 50, 13, 75, 15, 77, 17, 57, 59, 47, 44, 95, 28, 16, 72, 69, 7,\n",
    "          14, 76, 10, 21, 56, 89, 51, 78, 25, 7, 8, 17, 53, 86, 58, 35, 46, 16, 74, 21, 9,\n",
    "          4, 91, 59, 84, 50, 86, 60, 63, 99, 92, 64, 55, 40, 93, 39, 48, 96, 49, 98, 36,\n",
    "          72, 82, 45, 62, 58, 77, 17, 42, 49, 38, 21, 84, 61, 77, 1, 37, 31, 50, 52, 58]"
   ]
  },
  {
   "cell_type": "code",
   "execution_count": 31,
   "metadata": {},
   "outputs": [
    {
     "name": "stdout",
     "output_type": "stream",
     "text": [
      "the index of minimum number in MyList is 106\n",
      "the index of maximum number in MyList is 169\n"
     ]
    }
   ],
   "source": [
    "# Write code here ...\n",
    "MIN = min(myList)\n",
    "MAX = max(myList)\n",
    "# print(MIN, MAX)\n",
    "index_minmum = myList.index(MIN)\n",
    "index_maxmum = myList.index(MAX)\n",
    "print(\"the index of minimum number in MyList is\", index_minmum)\n",
    "print(\"the index of maximum number in MyList is\", index_maxmum)"
   ]
  },
  {
   "cell_type": "markdown",
   "metadata": {},
   "source": [
    "8b) In myList, find top-5 highest frequency numbers. List the numbers and number of occurences."
   ]
  },
  {
   "cell_type": "code",
   "execution_count": 38,
   "metadata": {},
   "outputs": [
    {
     "name": "stdout",
     "output_type": "stream",
     "text": [
      "Counter({17: 7, 77: 6, 84: 5, 75: 5, 58: 5, 49: 5, 7: 4, 44: 4, 21: 4, 56: 4, 98: 4, 71: 4, 66: 4, 60: 4, 50: 4, 94: 3, 59: 3, 38: 3, 57: 3, 54: 3, 74: 3, 25: 3, 92: 3, 14: 3, 97: 3, 13: 3, 95: 3, 69: 3, 96: 3, 9: 3, 4: 3, 86: 3, 16: 3, 46: 2, 43: 2, 76: 2, 81: 2, 88: 2, 62: 2, 19: 2, 83: 2, 82: 2, 2: 2, 8: 2, 18: 2, 30: 2, 11: 2, 45: 2, 78: 2, 42: 2, 36: 2, 48: 2, 47: 2, 37: 2, 51: 2, 28: 2, 63: 2, 1: 2, 91: 2, 72: 2, 70: 1, 80: 1, 29: 1, 22: 1, 73: 1, 79: 1, 34: 1, 90: 1, 6: 1, 23: 1, 15: 1, 10: 1, 89: 1, 53: 1, 35: 1, 99: 1, 64: 1, 55: 1, 40: 1, 93: 1, 39: 1, 61: 1, 31: 1, 52: 1})\n",
      "\n",
      "(17, 7)\n",
      "(77, 6)\n",
      "(84, 5)\n",
      "(75, 5)\n",
      "(58, 5)\n"
     ]
    }
   ],
   "source": [
    "# write code here ...\n",
    "import collections\n",
    "counter = collections.Counter(myList)\n",
    "\n",
    "print(counter)\n",
    "print()\n",
    "for i in counter.most_common(5):\n",
    "    print(i)"
   ]
  },
  {
   "cell_type": "markdown",
   "metadata": {},
   "source": [
    "9) Write a Python program to convert temperature from Centigrade to Fahrenheit\n",
    "and Fahrenheit to Centigrade. At the start, the program should ask which way we are converting.\n",
    "\n",
    "Then ask the user to input the temperature. Your program should do the conversion\n",
    "and print the results.\n",
    "\n",
    "(C x 9/5) + 32 = F"
   ]
  },
  {
   "cell_type": "code",
   "execution_count": 17,
   "metadata": {},
   "outputs": [
    {
     "name": "stdout",
     "output_type": "stream",
     "text": [
      "Input 1 for C>F; or 2 for F>C 2\n",
      "2\n",
      "Fahrenheit temperatre 38.9\n",
      "Centigrade temperatre 3.8\n"
     ]
    }
   ],
   "source": [
    "# Write code here \n",
    "convert = input(\"Input 1 for C>F; or 2 for F>C \")\n",
    "print(convert)\n",
    "if convert==\"1\":\n",
    "    c = input(\"Centigrade temperatre \")\n",
    "    f = float(c)*9/5 + 32\n",
    "    print(\"Fahrenheit temperatre {:.1f}\".format(f))\n",
    "else:\n",
    "    f = input(\"Fahrenheit temperatre \")\n",
    "    c = (float(f) - 32) * 5/9\n",
    "    print(\"Centigrade temperatre {:.1f}\".format(c))\n"
   ]
  },
  {
   "cell_type": "code",
   "execution_count": null,
   "metadata": {},
   "outputs": [],
   "source": [
    "\"\"\"\n",
    "10) Print the times table:\n",
    "1x1=1 1x2=2 1x3=3 1x4=4 1x5=5\n",
    "2x1=2 2x2=4 2x3=6 2x4=8 2x5=10\n",
    "3x1=3 3x2=6 3x3=9 3x4=12 3x5=15\n",
    "4x1=4 4x2=8 4x3=12 4x4=16 4x5=20\n",
    "\n",
    "5x1=5 5x2=10 5x3=15 5x4=20 5x5=25\n",
    "\n",
    "Use for loop nested with for loop to print the above multiplication table\n",
    "\"\"\""
   ]
  },
  {
   "cell_type": "code",
   "execution_count": 28,
   "metadata": {},
   "outputs": [
    {
     "name": "stdout",
     "output_type": "stream",
     "text": [
      "1x1=1 1x2=2 1x3=3 1x4=4 1x5=5 \n",
      "2x1=2 2x2=4 2x3=6 2x4=8 2x5=10 \n",
      "3x1=3 3x2=6 3x3=9 3x4=12 3x5=15 \n",
      "4x1=4 4x2=8 4x3=12 4x4=16 4x5=20 \n",
      "5x1=5 5x2=10 5x3=15 5x4=20 5x5=25 \n"
     ]
    }
   ],
   "source": [
    "# write code here \n",
    "for i in range(1,6):\n",
    "    for j in range(1,6):\n",
    "        print(\"{}x{}={}\".format(i, j, i*j), end=' ')\n",
    "    print()"
   ]
  },
  {
   "cell_type": "code",
   "execution_count": null,
   "metadata": {},
   "outputs": [],
   "source": []
  }
 ],
 "metadata": {
  "kernelspec": {
   "display_name": "Python 3",
   "language": "python",
   "name": "python3"
  },
  "language_info": {
   "codemirror_mode": {
    "name": "ipython",
    "version": 3
   },
   "file_extension": ".py",
   "mimetype": "text/x-python",
   "name": "python",
   "nbconvert_exporter": "python",
   "pygments_lexer": "ipython3",
   "version": "3.6.7"
  }
 },
 "nbformat": 4,
 "nbformat_minor": 2
}
