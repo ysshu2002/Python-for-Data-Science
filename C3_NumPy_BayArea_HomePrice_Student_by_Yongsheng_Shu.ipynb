{
 "cells": [
  {
   "cell_type": "markdown",
   "metadata": {},
   "source": [
    "<img src = \"https://img.betapage.co/images/77640967-77641456.png\" height=50% width = 50%>"
   ]
  },
  {
   "cell_type": "code",
   "execution_count": 114,
   "metadata": {},
   "outputs": [],
   "source": [
    "import numpy as np\n",
    "import array "
   ]
  },
  {
   "cell_type": "markdown",
   "metadata": {},
   "source": [
    "# Introduction to NumPy\n",
    "\n",
    "\"Numpy is the core library for scientific computing in Python. It provides a high-performance multidimensional array object, and tools for working with these arrays. This library provides you with an array data structure that holds some benefits over Python lists, such as: being more compact, faster access in reading and writing items, being more convenient and more efficient.\"\n"
   ]
  },
  {
   "cell_type": "markdown",
   "metadata": {},
   "source": [
    "# What is a NumPy array?\n",
    "\n",
    "\"The central feature of NumPy is the array object class. Arrays are similar to lists in Python, except that every element of an array must be of the same type, typically a numeric type like float or int. Arrays make operations with large amounts of numeric data very fast and are generally much more efficient than lists.\"\n",
    "\n",
    "LINK: https://engineering.ucsb.edu/~shell/che210d/numpy.pdf"
   ]
  },
  {
   "cell_type": "markdown",
   "metadata": {},
   "source": [
    "<img src = \"http://community.datacamp.com.s3.amazonaws.com/community/production/ckeditor_assets/pictures/332/content_arrays-axes.png\">"
   ]
  },
  {
   "cell_type": "markdown",
   "metadata": {},
   "source": [
    "# NumPy Array Syntax\n",
    "The function array takes two arguments: the list to be converted into the array and the type of each member of the list. "
   ]
  },
  {
   "cell_type": "code",
   "execution_count": 115,
   "metadata": {},
   "outputs": [
    {
     "name": "stdout",
     "output_type": "stream",
     "text": [
      "[1 2 3 4 5 6 7 8 9]\n"
     ]
    },
    {
     "data": {
      "text/plain": [
       "array([1, 2, 3, 4, 5, 6, 7, 8, 9])"
      ]
     },
     "execution_count": 115,
     "metadata": {},
     "output_type": "execute_result"
    }
   ],
   "source": [
    "#List to be converted\n",
    "lst = [1,2,3,4,5,6,7,8,9]\n",
    "\n",
    "arr = np.array(lst)\n",
    "#print(lst)\n",
    "#lst\n",
    "print(arr)\n",
    "arr\n"
   ]
  },
  {
   "cell_type": "markdown",
   "metadata": {},
   "source": [
    "Array elements are accessed, sliced, and manipulated just like lists."
   ]
  },
  {
   "cell_type": "code",
   "execution_count": 116,
   "metadata": {},
   "outputs": [
    {
     "data": {
      "text/plain": [
       "array([3, 4, 5, 6, 7, 8, 9])"
      ]
     },
     "execution_count": 116,
     "metadata": {},
     "output_type": "execute_result"
    }
   ],
   "source": [
    "#Index from the 2nd index on\n",
    "arr[2:]"
   ]
  },
  {
   "cell_type": "code",
   "execution_count": 117,
   "metadata": {},
   "outputs": [
    {
     "data": {
      "text/plain": [
       "array([10,  2,  3,  4,  5,  6,  7,  8,  9])"
      ]
     },
     "execution_count": 117,
     "metadata": {},
     "output_type": "execute_result"
    }
   ],
   "source": [
    "#manipulate item at index 0\n",
    "arr[0] = 10\n",
    "arr"
   ]
  },
  {
   "cell_type": "markdown",
   "metadata": {},
   "source": [
    "\n",
    "<b>* Why can't we simply use a python list for these scientific computations?<b>"
   ]
  },
  {
   "cell_type": "markdown",
   "metadata": {},
   "source": [
    "# Python List VS NumPy Array\n",
    "\n",
    "\"Arrays and lists are both used in Python to store data, but they don't serve exactly the same purposes. They both can be used to store any data type (real numbers, strings, etc), and they both can be indexed and iterated through, but the similarities between the two don't go much further. The main difference between a list and an array is the functions that you can perform to them. For example, you can divide an array by 3, and each number in the array will be divided by 3 and the result will be printed if you request it. If you try to divide a list by 3, Python will tell you that it can't be done, and an error will be thrown.\"\n"
   ]
  },
  {
   "cell_type": "code",
   "execution_count": 118,
   "metadata": {},
   "outputs": [
    {
     "ename": "TypeError",
     "evalue": "unsupported operand type(s) for /: 'list' and 'int'",
     "output_type": "error",
     "traceback": [
      "\u001b[1;31m---------------------------------------------------------------------------\u001b[0m",
      "\u001b[1;31mTypeError\u001b[0m                                 Traceback (most recent call last)",
      "\u001b[1;32m<ipython-input-118-f77ccc9ee967>\u001b[0m in \u001b[0;36m<module>\u001b[1;34m\u001b[0m\n\u001b[0;32m      1\u001b[0m \u001b[0mlst\u001b[0m \u001b[1;33m=\u001b[0m \u001b[1;33m[\u001b[0m\u001b[1;36m3\u001b[0m\u001b[1;33m,\u001b[0m\u001b[1;36m6\u001b[0m\u001b[1;33m,\u001b[0m\u001b[1;36m9\u001b[0m\u001b[1;33m,\u001b[0m\u001b[1;36m12\u001b[0m\u001b[1;33m,\u001b[0m\u001b[1;36m15\u001b[0m\u001b[1;33m,\u001b[0m\u001b[1;36m18\u001b[0m\u001b[1;33m,\u001b[0m\u001b[1;36m12\u001b[0m\u001b[1;33m]\u001b[0m\u001b[1;33m\u001b[0m\u001b[1;33m\u001b[0m\u001b[0m\n\u001b[1;32m----> 2\u001b[1;33m \u001b[0mlst\u001b[0m\u001b[1;33m/\u001b[0m\u001b[1;36m3\u001b[0m\u001b[1;33m\u001b[0m\u001b[1;33m\u001b[0m\u001b[0m\n\u001b[0m",
      "\u001b[1;31mTypeError\u001b[0m: unsupported operand type(s) for /: 'list' and 'int'"
     ]
    }
   ],
   "source": [
    "lst = [3,6,9,12,15,18,12]\n",
    "lst/3"
   ]
  },
  {
   "cell_type": "code",
   "execution_count": 119,
   "metadata": {},
   "outputs": [
    {
     "name": "stdout",
     "output_type": "stream",
     "text": [
      "[12 24 36 48 60 72 48]\n"
     ]
    }
   ],
   "source": [
    "arr = np.array([3,6,9,12,15,18,12])\n",
    "arr1 = arr * 4\n",
    "print(arr1)"
   ]
  },
  {
   "cell_type": "code",
   "execution_count": 120,
   "metadata": {},
   "outputs": [
    {
     "name": "stdout",
     "output_type": "stream",
     "text": [
      "[12 24 36 48 60 72 48]\n"
     ]
    }
   ],
   "source": [
    "print(arr1)"
   ]
  },
  {
   "cell_type": "markdown",
   "metadata": {},
   "source": [
    "Arrays can be multidimensional. Unlike lists, different axes are accessed using commas inside bracket notation. Here is an example with a two-dimensional array (e.g., a matrix)"
   ]
  },
  {
   "cell_type": "code",
   "execution_count": 121,
   "metadata": {},
   "outputs": [
    {
     "data": {
      "text/plain": [
       "array([[5, 6, 7, 8, 9],\n",
       "       [1, 2, 3, 4, 5]])"
      ]
     },
     "execution_count": 121,
     "metadata": {},
     "output_type": "execute_result"
    }
   ],
   "source": [
    "lst1 = [1,2,3,4,5]\\\n",
    "\n",
    "lst2 = [5,6,7,8,9]\n",
    "arr = np.array([lst2,lst1])\n",
    "arr"
   ]
  },
  {
   "cell_type": "code",
   "execution_count": 122,
   "metadata": {},
   "outputs": [
    {
     "data": {
      "text/plain": [
       "array([[1.66666667, 2.        , 2.33333333, 2.66666667, 3.        ],\n",
       "       [0.33333333, 0.66666667, 1.        , 1.33333333, 1.66666667]])"
      ]
     },
     "execution_count": 122,
     "metadata": {},
     "output_type": "execute_result"
    }
   ],
   "source": [
    "(arr/3)"
   ]
  },
  {
   "cell_type": "code",
   "execution_count": 123,
   "metadata": {},
   "outputs": [
    {
     "name": "stdout",
     "output_type": "stream",
     "text": [
      "[[1, 2, 3, 4, 5], [5, 6, 7, 8, 9]]\n"
     ]
    },
    {
     "data": {
      "text/plain": [
       "array([[1, 2, 3, 4, 5],\n",
       "       [5, 6, 7, 8, 9]])"
      ]
     },
     "execution_count": 123,
     "metadata": {},
     "output_type": "execute_result"
    }
   ],
   "source": [
    "lst_lst = [lst1,lst2]\n",
    "arr = np.array(lst_lst)\n",
    "print(lst_lst)\n",
    "arr"
   ]
  },
  {
   "cell_type": "code",
   "execution_count": 124,
   "metadata": {},
   "outputs": [
    {
     "ename": "TypeError",
     "evalue": "unsupported operand type(s) for /: 'list' and 'int'",
     "output_type": "error",
     "traceback": [
      "\u001b[1;31m---------------------------------------------------------------------------\u001b[0m",
      "\u001b[1;31mTypeError\u001b[0m                                 Traceback (most recent call last)",
      "\u001b[1;32m<ipython-input-124-66863a021a51>\u001b[0m in \u001b[0;36m<module>\u001b[1;34m\u001b[0m\n\u001b[1;32m----> 1\u001b[1;33m \u001b[0mlst_lst\u001b[0m\u001b[1;33m/\u001b[0m\u001b[1;36m3\u001b[0m\u001b[1;33m\u001b[0m\u001b[1;33m\u001b[0m\u001b[0m\n\u001b[0m",
      "\u001b[1;31mTypeError\u001b[0m: unsupported operand type(s) for /: 'list' and 'int'"
     ]
    }
   ],
   "source": [
    "lst_lst/3"
   ]
  },
  {
   "cell_type": "markdown",
   "metadata": {},
   "source": [
    "# Indexing Arrays VS Lists"
   ]
  },
  {
   "cell_type": "code",
   "execution_count": 125,
   "metadata": {},
   "outputs": [
    {
     "data": {
      "text/plain": [
       "array([[1, 2, 3, 4, 5],\n",
       "       [5, 6, 7, 8, 9]])"
      ]
     },
     "execution_count": 125,
     "metadata": {},
     "output_type": "execute_result"
    }
   ],
   "source": [
    "arr"
   ]
  },
  {
   "cell_type": "code",
   "execution_count": 126,
   "metadata": {},
   "outputs": [
    {
     "name": "stdout",
     "output_type": "stream",
     "text": [
      "2\n"
     ]
    },
    {
     "data": {
      "text/plain": [
       "2"
      ]
     },
     "execution_count": 126,
     "metadata": {},
     "output_type": "execute_result"
    }
   ],
   "source": [
    "print(arr[0,1])\n",
    "arr[0][1]"
   ]
  },
  {
   "cell_type": "code",
   "execution_count": 127,
   "metadata": {},
   "outputs": [
    {
     "name": "stdout",
     "output_type": "stream",
     "text": [
      "[[1, 2, 3, 4, 5], [5, 6, 7, 8, 9]]\n"
     ]
    },
    {
     "data": {
      "text/plain": [
       "[[1, 2, 3, 4, 5], [5, 6, 7, 8, 9]]"
      ]
     },
     "execution_count": 127,
     "metadata": {},
     "output_type": "execute_result"
    }
   ],
   "source": [
    "print(lst_lst)\n",
    "lst_lst"
   ]
  },
  {
   "cell_type": "code",
   "execution_count": 128,
   "metadata": {
    "scrolled": true
   },
   "outputs": [
    {
     "data": {
      "text/plain": [
       "2"
      ]
     },
     "execution_count": 128,
     "metadata": {},
     "output_type": "execute_result"
    }
   ],
   "source": [
    "#lst_lst[0,1]\n",
    "arr[0,1]"
   ]
  },
  {
   "cell_type": "code",
   "execution_count": 129,
   "metadata": {},
   "outputs": [
    {
     "data": {
      "text/plain": [
       "2"
      ]
     },
     "execution_count": 129,
     "metadata": {},
     "output_type": "execute_result"
    }
   ],
   "source": [
    "lst_lst[0][1]"
   ]
  },
  {
   "cell_type": "code",
   "execution_count": 130,
   "metadata": {},
   "outputs": [
    {
     "data": {
      "text/plain": [
       "array([5, 6, 7, 8, 9])"
      ]
     },
     "execution_count": 130,
     "metadata": {},
     "output_type": "execute_result"
    }
   ],
   "source": [
    "arr[-1]"
   ]
  },
  {
   "cell_type": "code",
   "execution_count": 131,
   "metadata": {},
   "outputs": [
    {
     "data": {
      "text/plain": [
       "[5, 6, 7, 8, 9]"
      ]
     },
     "execution_count": 131,
     "metadata": {},
     "output_type": "execute_result"
    }
   ],
   "source": [
    "lst_lst[-1]"
   ]
  },
  {
   "cell_type": "code",
   "execution_count": 132,
   "metadata": {},
   "outputs": [
    {
     "data": {
      "text/plain": [
       "array([[1, 2, 3, 4, 5],\n",
       "       [5, 6, 7, 8, 9]])"
      ]
     },
     "execution_count": 132,
     "metadata": {},
     "output_type": "execute_result"
    }
   ],
   "source": [
    "arr"
   ]
  },
  {
   "cell_type": "markdown",
   "metadata": {},
   "source": [
    "<h3> How to index a multidemsional array? </h3><br>\n",
    "The individual elements of arrays can be accessed in the same way as for lists.\n",
    "\n",
    "<img src = \"http://www.scipy-lectures.org/_images/numpy_indexing.png\" height = 60% width = 60%>"
   ]
  },
  {
   "cell_type": "code",
   "execution_count": 133,
   "metadata": {},
   "outputs": [],
   "source": [
    "list_2d = [[0,1,2,3,4,5],\n",
    "           [10,11,12,13,14,15],\n",
    "           [20,21,22,23,24,25],\n",
    "           [30,31,32,33,34,35],\n",
    "           [40,41,42,43,44,45],\n",
    "           [50,51,52,53,54,55]]"
   ]
  },
  {
   "cell_type": "code",
   "execution_count": 134,
   "metadata": {},
   "outputs": [
    {
     "name": "stdout",
     "output_type": "stream",
     "text": [
      "[1, 2, 3]\n"
     ]
    }
   ],
   "source": [
    "myList = [1,2,3]\n",
    "print(myList)"
   ]
  },
  {
   "cell_type": "code",
   "execution_count": 135,
   "metadata": {},
   "outputs": [
    {
     "name": "stdout",
     "output_type": "stream",
     "text": [
      "[[ 0  1  2  3  4  5]\n",
      " [10 11 12 13 14 15]\n",
      " [20 21 22 23 24 25]\n",
      " [30 31 32 33 34 35]\n",
      " [40 41 42 43 44 45]\n",
      " [50 51 52 53 54 55]]\n"
     ]
    },
    {
     "data": {
      "text/plain": [
       "(6, 6)"
      ]
     },
     "execution_count": 135,
     "metadata": {},
     "output_type": "execute_result"
    }
   ],
   "source": [
    "array_2d = np.array(list_2d)\n",
    "print(array_2d)\n",
    "array_2d.shape\n",
    "#array_2d"
   ]
  },
  {
   "cell_type": "code",
   "execution_count": 136,
   "metadata": {},
   "outputs": [
    {
     "name": "stdout",
     "output_type": "stream",
     "text": [
      "[3 4]\n"
     ]
    }
   ],
   "source": [
    "print(array_2d[0,3:5])"
   ]
  },
  {
   "cell_type": "code",
   "execution_count": 137,
   "metadata": {},
   "outputs": [
    {
     "name": "stdout",
     "output_type": "stream",
     "text": [
      "[[44 45]\n",
      " [54 55]]\n"
     ]
    }
   ],
   "source": [
    "print(array_2d[4:,4:])"
   ]
  },
  {
   "cell_type": "code",
   "execution_count": 138,
   "metadata": {},
   "outputs": [
    {
     "name": "stdout",
     "output_type": "stream",
     "text": [
      "[ 2 12 22 32 42 52]\n"
     ]
    }
   ],
   "source": [
    "print(array_2d[:,2])"
   ]
  },
  {
   "cell_type": "code",
   "execution_count": 139,
   "metadata": {},
   "outputs": [
    {
     "name": "stdout",
     "output_type": "stream",
     "text": [
      "[[23 25]\n",
      " [43 45]]\n"
     ]
    }
   ],
   "source": [
    "print(array_2d[2:5:2,3::2]) # step by 2"
   ]
  },
  {
   "cell_type": "code",
   "execution_count": 140,
   "metadata": {},
   "outputs": [],
   "source": [
    "# adding new column to numpy array"
   ]
  },
  {
   "cell_type": "code",
   "execution_count": 141,
   "metadata": {},
   "outputs": [
    {
     "name": "stdout",
     "output_type": "stream",
     "text": [
      "[ 5.25 15.75 26.25 36.75 47.25 57.75]\n"
     ]
    },
    {
     "data": {
      "text/plain": [
       "array([ 5.25, 15.75, 26.25, 36.75, 47.25, 57.75])"
      ]
     },
     "execution_count": 141,
     "metadata": {},
     "output_type": "execute_result"
    }
   ],
   "source": [
    "calc = array_2d[:,5] * 1.05\n",
    "# new_column = np.array(calc)\n",
    "print(calc)\n",
    "calc"
   ]
  },
  {
   "cell_type": "code",
   "execution_count": 145,
   "metadata": {},
   "outputs": [
    {
     "name": "stdout",
     "output_type": "stream",
     "text": [
      "[[ 0.    1.    2.    3.    4.    5.    5.25]\n",
      " [10.   11.   12.   13.   14.   15.   15.75]\n",
      " [20.   21.   22.   23.   24.   25.   26.25]\n",
      " [30.   31.   32.   33.   34.   35.   36.75]\n",
      " [40.   41.   42.   43.   44.   45.   47.25]\n",
      " [50.   51.   52.   53.   54.   55.   57.75]]\n"
     ]
    }
   ],
   "source": [
    "new_array_2d = np.column_stack((array_2d,calc))\n",
    "print(new_array_2d)"
   ]
  },
  {
   "cell_type": "markdown",
   "metadata": {},
   "source": [
    "# Changing Array to different DataType"
   ]
  },
  {
   "cell_type": "code",
   "execution_count": 39,
   "metadata": {},
   "outputs": [
    {
     "name": "stdout",
     "output_type": "stream",
     "text": [
      "[[5, 6, 7, 8, 9], [1, 2, 3, 4, 5]]\n",
      "<class 'list'>\n"
     ]
    }
   ],
   "source": [
    "mylist = arr.tolist()\n",
    "print(mylist)\n",
    "print(type(mylist))"
   ]
  },
  {
   "cell_type": "code",
   "execution_count": 40,
   "metadata": {},
   "outputs": [
    {
     "data": {
      "text/plain": [
       "numpy.ndarray"
      ]
     },
     "execution_count": 40,
     "metadata": {},
     "output_type": "execute_result"
    }
   ],
   "source": [
    "type(arr)"
   ]
  },
  {
   "cell_type": "code",
   "execution_count": 41,
   "metadata": {},
   "outputs": [
    {
     "data": {
      "text/plain": [
       "array([[5, 6, 7, 8, 9],\n",
       "       [1, 2, 3, 4, 5]])"
      ]
     },
     "execution_count": 41,
     "metadata": {},
     "output_type": "execute_result"
    }
   ],
   "source": [
    "arr = np.array(arr)\n",
    "arr"
   ]
  },
  {
   "cell_type": "code",
   "execution_count": 43,
   "metadata": {},
   "outputs": [
    {
     "data": {
      "text/plain": [
       "numpy.ndarray"
      ]
     },
     "execution_count": 43,
     "metadata": {},
     "output_type": "execute_result"
    }
   ],
   "source": [
    "type(arr)"
   ]
  },
  {
   "cell_type": "code",
   "execution_count": 182,
   "metadata": {},
   "outputs": [
    {
     "data": {
      "text/plain": [
       "(2, 5)"
      ]
     },
     "execution_count": 182,
     "metadata": {},
     "output_type": "execute_result"
    }
   ],
   "source": [
    "arr.shape"
   ]
  },
  {
   "cell_type": "markdown",
   "metadata": {},
   "source": [
    "# Change Array Shape"
   ]
  },
  {
   "cell_type": "markdown",
   "metadata": {},
   "source": [
    "Transposed versions of arrays can also be generated, which will create a new array with the final two axes switched:"
   ]
  },
  {
   "cell_type": "code",
   "execution_count": 52,
   "metadata": {},
   "outputs": [
    {
     "name": "stdout",
     "output_type": "stream",
     "text": [
      "<class 'numpy.ndarray'>\n"
     ]
    }
   ],
   "source": [
    "arr\n",
    "print(type(arr))"
   ]
  },
  {
   "cell_type": "code",
   "execution_count": 46,
   "metadata": {},
   "outputs": [
    {
     "data": {
      "text/plain": [
       "(2, 5)"
      ]
     },
     "execution_count": 46,
     "metadata": {},
     "output_type": "execute_result"
    }
   ],
   "source": [
    "arr.shape"
   ]
  },
  {
   "cell_type": "code",
   "execution_count": 47,
   "metadata": {},
   "outputs": [
    {
     "data": {
      "text/plain": [
       "array([[5, 1],\n",
       "       [6, 2],\n",
       "       [7, 3],\n",
       "       [8, 4],\n",
       "       [9, 5]])"
      ]
     },
     "execution_count": 47,
     "metadata": {},
     "output_type": "execute_result"
    }
   ],
   "source": [
    "arr.transpose()"
   ]
  },
  {
   "cell_type": "code",
   "execution_count": 48,
   "metadata": {},
   "outputs": [
    {
     "data": {
      "text/plain": [
       "(5, 2)"
      ]
     },
     "execution_count": 48,
     "metadata": {},
     "output_type": "execute_result"
    }
   ],
   "source": [
    "arr.transpose().shape"
   ]
  },
  {
   "cell_type": "markdown",
   "metadata": {},
   "source": [
    "Make multidimensional array into one-dimensional array"
   ]
  },
  {
   "cell_type": "code",
   "execution_count": 49,
   "metadata": {},
   "outputs": [
    {
     "data": {
      "text/plain": [
       "(2, 5)"
      ]
     },
     "execution_count": 49,
     "metadata": {},
     "output_type": "execute_result"
    }
   ],
   "source": [
    "arr.shape"
   ]
  },
  {
   "cell_type": "code",
   "execution_count": 50,
   "metadata": {},
   "outputs": [
    {
     "data": {
      "text/plain": [
       "array([5, 6, 7, 8, 9, 1, 2, 3, 4, 5])"
      ]
     },
     "execution_count": 50,
     "metadata": {},
     "output_type": "execute_result"
    }
   ],
   "source": [
    "arr.flatten()"
   ]
  },
  {
   "cell_type": "code",
   "execution_count": 53,
   "metadata": {},
   "outputs": [
    {
     "name": "stdout",
     "output_type": "stream",
     "text": [
      "<class 'numpy.ndarray'>\n"
     ]
    }
   ],
   "source": [
    "arr.flatten().shape\n",
    "print(type(arr.flatten()))"
   ]
  },
  {
   "cell_type": "markdown",
   "metadata": {},
   "source": [
    "# Create New Array (Specific)\n",
    "\n",
    "Numpy also provides many functions to create arrays."
   ]
  },
  {
   "cell_type": "markdown",
   "metadata": {},
   "source": [
    "Creates an array of all zeros with a specified shape."
   ]
  },
  {
   "cell_type": "code",
   "execution_count": 56,
   "metadata": {},
   "outputs": [
    {
     "data": {
      "text/plain": [
       "array([0, 0, 0, 0, 0, 0, 0, 0, 0, 0])"
      ]
     },
     "execution_count": 56,
     "metadata": {},
     "output_type": "execute_result"
    }
   ],
   "source": [
    "#1-Dimensional\n",
    "np.zeros(10, int)"
   ]
  },
  {
   "cell_type": "code",
   "execution_count": 57,
   "metadata": {},
   "outputs": [
    {
     "data": {
      "text/plain": [
       "array([[0, 0],\n",
       "       [0, 0]])"
      ]
     },
     "execution_count": 57,
     "metadata": {},
     "output_type": "execute_result"
    }
   ],
   "source": [
    "#2-Dimensional\n",
    "np.zeros((2,2), int)"
   ]
  },
  {
   "cell_type": "markdown",
   "metadata": {},
   "source": [
    "Creates an array of all ones with a specified shape."
   ]
  },
  {
   "cell_type": "code",
   "execution_count": 58,
   "metadata": {},
   "outputs": [
    {
     "data": {
      "text/plain": [
       "array([1, 1, 1, 1, 1, 1, 1, 1, 1, 1])"
      ]
     },
     "execution_count": 58,
     "metadata": {},
     "output_type": "execute_result"
    }
   ],
   "source": [
    "#1-Dimensional\n",
    "np.ones(10, int)"
   ]
  },
  {
   "cell_type": "code",
   "execution_count": 59,
   "metadata": {},
   "outputs": [
    {
     "data": {
      "text/plain": [
       "array([[1., 1.],\n",
       "       [1., 1.]])"
      ]
     },
     "execution_count": 59,
     "metadata": {},
     "output_type": "execute_result"
    }
   ],
   "source": [
    "#2-Dimensional\n",
    "np.ones((2,2))"
   ]
  },
  {
   "cell_type": "markdown",
   "metadata": {},
   "source": [
    "Creates a constant array (specified number) with a specified shape."
   ]
  },
  {
   "cell_type": "code",
   "execution_count": 60,
   "metadata": {},
   "outputs": [
    {
     "data": {
      "text/plain": [
       "array([7, 7, 7, 7, 7, 7, 7, 7, 7, 7])"
      ]
     },
     "execution_count": 60,
     "metadata": {},
     "output_type": "execute_result"
    }
   ],
   "source": [
    "#1-Dimensional\n",
    "np.full(10,7)"
   ]
  },
  {
   "cell_type": "code",
   "execution_count": 61,
   "metadata": {},
   "outputs": [
    {
     "data": {
      "text/plain": [
       "array([[7, 7],\n",
       "       [7, 7]])"
      ]
     },
     "execution_count": 61,
     "metadata": {},
     "output_type": "execute_result"
    }
   ],
   "source": [
    "#2-Dimensional\n",
    "np.full((2, 2), 7)"
   ]
  },
  {
   "cell_type": "markdown",
   "metadata": {},
   "source": [
    "Created an array of a specified shape with random values."
   ]
  },
  {
   "cell_type": "code",
   "execution_count": 62,
   "metadata": {},
   "outputs": [
    {
     "data": {
      "text/plain": [
       "array([0.7676577 , 0.18708201, 0.06955774, 0.13270188, 0.28383996,\n",
       "       0.311552  , 0.55493215, 0.07069594, 0.5730394 , 0.84798343])"
      ]
     },
     "execution_count": 62,
     "metadata": {},
     "output_type": "execute_result"
    }
   ],
   "source": [
    "#1-Dimensional\n",
    "np.random.random(10)"
   ]
  },
  {
   "cell_type": "code",
   "execution_count": 63,
   "metadata": {},
   "outputs": [
    {
     "data": {
      "text/plain": [
       "array([[0.37287484, 0.54907541],\n",
       "       [0.178523  , 0.47284696]])"
      ]
     },
     "execution_count": 63,
     "metadata": {},
     "output_type": "execute_result"
    }
   ],
   "source": [
    "#2-Dimensional\n",
    "np.random.random((2,2))"
   ]
  },
  {
   "cell_type": "markdown",
   "metadata": {},
   "source": [
    "Create an array of a specified length with evenly spaced values."
   ]
  },
  {
   "cell_type": "code",
   "execution_count": 186,
   "metadata": {},
   "outputs": [
    {
     "data": {
      "text/plain": [
       "array([1.        , 1.47368421, 1.94736842, 2.42105263, 2.89473684,\n",
       "       3.36842105, 3.84210526, 4.31578947, 4.78947368, 5.26315789,\n",
       "       5.7368421 , 6.21052631, 6.68421052, 7.15789473, 7.63157894,\n",
       "       8.10526315, 8.57894736, 9.05263157, 9.52631578, 9.99999999])"
      ]
     },
     "execution_count": 186,
     "metadata": {},
     "output_type": "execute_result"
    }
   ],
   "source": [
    "#1-Dimensional\n",
    "np.arange(10)\n",
    "np.arange(1,10, 0.47368421)"
   ]
  },
  {
   "cell_type": "markdown",
   "metadata": {},
   "source": [
    "Create an array with a specified \"start\", \"stop\", and number of values, evenly spaced."
   ]
  },
  {
   "cell_type": "code",
   "execution_count": 65,
   "metadata": {},
   "outputs": [
    {
     "data": {
      "text/plain": [
       "array([ 1.        ,  1.47368421,  1.94736842,  2.42105263,  2.89473684,\n",
       "        3.36842105,  3.84210526,  4.31578947,  4.78947368,  5.26315789,\n",
       "        5.73684211,  6.21052632,  6.68421053,  7.15789474,  7.63157895,\n",
       "        8.10526316,  8.57894737,  9.05263158,  9.52631579, 10.        ])"
      ]
     },
     "execution_count": 65,
     "metadata": {},
     "output_type": "execute_result"
    }
   ],
   "source": [
    "#1-Dimensional\n",
    "np.linspace(1, 10, num = 20)"
   ]
  },
  {
   "cell_type": "markdown",
   "metadata": {},
   "source": [
    "Creates a 2x2 identity matrix (array).\n",
    "\n",
    "An identity matrix is a square matrix having 1s on the main diagonal, and 0s everywhere else. These are called identity matrices because, when you multiply them with a compatible matrix , you get back the same matrix.\n",
    "http://www.sparknotes.com/math/algebra2/matrices/section3.rhtml"
   ]
  },
  {
   "cell_type": "code",
   "execution_count": 66,
   "metadata": {},
   "outputs": [
    {
     "data": {
      "text/plain": [
       "array([[1., 0., 0., 0., 0., 0., 0., 0., 0., 0.],\n",
       "       [0., 1., 0., 0., 0., 0., 0., 0., 0., 0.],\n",
       "       [0., 0., 1., 0., 0., 0., 0., 0., 0., 0.],\n",
       "       [0., 0., 0., 1., 0., 0., 0., 0., 0., 0.],\n",
       "       [0., 0., 0., 0., 1., 0., 0., 0., 0., 0.],\n",
       "       [0., 0., 0., 0., 0., 1., 0., 0., 0., 0.],\n",
       "       [0., 0., 0., 0., 0., 0., 1., 0., 0., 0.],\n",
       "       [0., 0., 0., 0., 0., 0., 0., 1., 0., 0.],\n",
       "       [0., 0., 0., 0., 0., 0., 0., 0., 1., 0.],\n",
       "       [0., 0., 0., 0., 0., 0., 0., 0., 0., 1.]])"
      ]
     },
     "execution_count": 66,
     "metadata": {},
     "output_type": "execute_result"
    }
   ],
   "source": [
    "#2-Dimensional\n",
    "np.eye(10)"
   ]
  },
  {
   "cell_type": "markdown",
   "metadata": {},
   "source": [
    "OR"
   ]
  },
  {
   "cell_type": "code",
   "execution_count": 67,
   "metadata": {},
   "outputs": [
    {
     "data": {
      "text/plain": [
       "array([[1., 0., 0., 0., 0., 0., 0., 0., 0., 0.],\n",
       "       [0., 1., 0., 0., 0., 0., 0., 0., 0., 0.],\n",
       "       [0., 0., 1., 0., 0., 0., 0., 0., 0., 0.],\n",
       "       [0., 0., 0., 1., 0., 0., 0., 0., 0., 0.],\n",
       "       [0., 0., 0., 0., 1., 0., 0., 0., 0., 0.],\n",
       "       [0., 0., 0., 0., 0., 1., 0., 0., 0., 0.],\n",
       "       [0., 0., 0., 0., 0., 0., 1., 0., 0., 0.],\n",
       "       [0., 0., 0., 0., 0., 0., 0., 1., 0., 0.],\n",
       "       [0., 0., 0., 0., 0., 0., 0., 0., 1., 0.],\n",
       "       [0., 0., 0., 0., 0., 0., 0., 0., 0., 1.]])"
      ]
     },
     "execution_count": 67,
     "metadata": {},
     "output_type": "execute_result"
    }
   ],
   "source": [
    "#2-Dimensional\n",
    "np.identity(10)"
   ]
  },
  {
   "cell_type": "markdown",
   "metadata": {},
   "source": [
    "# Math Functions using NumPy\n",
    "\n",
    "\"As such, it probably won’t surprise you that you can just use +, -, *, / or % to add, subtract, multiply, divide or calculate the remainder of two (or more) arrays. However, a big part of why NumPy is so handy, is because it also has functions to do this. The equivalent functions of the operations that you have seen just now are, respectively, np.add(), np.subtract(), np.multiply(), np.divide() and np.remainder().\"\n",
    "\n",
    "https://www.datacamp.com/community/tutorials/python-numpy-tutorial"
   ]
  },
  {
   "cell_type": "code",
   "execution_count": 68,
   "metadata": {
    "scrolled": true
   },
   "outputs": [
    {
     "data": {
      "text/plain": [
       "array([[1., 1., 1., 1., 1., 1., 1., 1., 1., 1.],\n",
       "       [1., 1., 1., 1., 1., 1., 1., 1., 1., 1.],\n",
       "       [1., 1., 1., 1., 1., 1., 1., 1., 1., 1.],\n",
       "       [1., 1., 1., 1., 1., 1., 1., 1., 1., 1.],\n",
       "       [1., 1., 1., 1., 1., 1., 1., 1., 1., 1.],\n",
       "       [1., 1., 1., 1., 1., 1., 1., 1., 1., 1.],\n",
       "       [1., 1., 1., 1., 1., 1., 1., 1., 1., 1.],\n",
       "       [1., 1., 1., 1., 1., 1., 1., 1., 1., 1.],\n",
       "       [1., 1., 1., 1., 1., 1., 1., 1., 1., 1.],\n",
       "       [1., 1., 1., 1., 1., 1., 1., 1., 1., 1.]])"
      ]
     },
     "execution_count": 68,
     "metadata": {},
     "output_type": "execute_result"
    }
   ],
   "source": [
    "arr = np.ones((10,10))\n",
    "arr"
   ]
  },
  {
   "cell_type": "code",
   "execution_count": 69,
   "metadata": {},
   "outputs": [
    {
     "data": {
      "text/plain": [
       "array([[3., 3., 3., 3., 3., 3., 3., 3., 3., 3.],\n",
       "       [3., 3., 3., 3., 3., 3., 3., 3., 3., 3.],\n",
       "       [3., 3., 3., 3., 3., 3., 3., 3., 3., 3.],\n",
       "       [3., 3., 3., 3., 3., 3., 3., 3., 3., 3.],\n",
       "       [3., 3., 3., 3., 3., 3., 3., 3., 3., 3.],\n",
       "       [3., 3., 3., 3., 3., 3., 3., 3., 3., 3.],\n",
       "       [3., 3., 3., 3., 3., 3., 3., 3., 3., 3.],\n",
       "       [3., 3., 3., 3., 3., 3., 3., 3., 3., 3.],\n",
       "       [3., 3., 3., 3., 3., 3., 3., 3., 3., 3.],\n",
       "       [3., 3., 3., 3., 3., 3., 3., 3., 3., 3.]])"
      ]
     },
     "execution_count": 69,
     "metadata": {},
     "output_type": "execute_result"
    }
   ],
   "source": [
    "np.add(arr,2)"
   ]
  },
  {
   "cell_type": "code",
   "execution_count": 72,
   "metadata": {},
   "outputs": [
    {
     "data": {
      "text/plain": [
       "array([[3., 3., 3., 3., 3., 3., 3., 3., 3., 3.],\n",
       "       [3., 3., 3., 3., 3., 3., 3., 3., 3., 3.],\n",
       "       [3., 3., 3., 3., 3., 3., 3., 3., 3., 3.],\n",
       "       [3., 3., 3., 3., 3., 3., 3., 3., 3., 3.],\n",
       "       [3., 3., 3., 3., 3., 3., 3., 3., 3., 3.],\n",
       "       [3., 3., 3., 3., 3., 3., 3., 3., 3., 3.],\n",
       "       [3., 3., 3., 3., 3., 3., 3., 3., 3., 3.],\n",
       "       [3., 3., 3., 3., 3., 3., 3., 3., 3., 3.],\n",
       "       [3., 3., 3., 3., 3., 3., 3., 3., 3., 3.],\n",
       "       [3., 3., 3., 3., 3., 3., 3., 3., 3., 3.]])"
      ]
     },
     "execution_count": 72,
     "metadata": {},
     "output_type": "execute_result"
    }
   ],
   "source": [
    "#OR\n",
    "arr + 2\n",
    "#type(arr)"
   ]
  },
  {
   "cell_type": "code",
   "execution_count": 73,
   "metadata": {},
   "outputs": [
    {
     "data": {
      "text/plain": [
       "array([[3.14, 3.14, 3.14, 3.14, 3.14, 3.14, 3.14, 3.14, 3.14, 3.14],\n",
       "       [3.14, 3.14, 3.14, 3.14, 3.14, 3.14, 3.14, 3.14, 3.14, 3.14],\n",
       "       [3.14, 3.14, 3.14, 3.14, 3.14, 3.14, 3.14, 3.14, 3.14, 3.14],\n",
       "       [3.14, 3.14, 3.14, 3.14, 3.14, 3.14, 3.14, 3.14, 3.14, 3.14],\n",
       "       [3.14, 3.14, 3.14, 3.14, 3.14, 3.14, 3.14, 3.14, 3.14, 3.14],\n",
       "       [3.14, 3.14, 3.14, 3.14, 3.14, 3.14, 3.14, 3.14, 3.14, 3.14],\n",
       "       [3.14, 3.14, 3.14, 3.14, 3.14, 3.14, 3.14, 3.14, 3.14, 3.14],\n",
       "       [3.14, 3.14, 3.14, 3.14, 3.14, 3.14, 3.14, 3.14, 3.14, 3.14],\n",
       "       [3.14, 3.14, 3.14, 3.14, 3.14, 3.14, 3.14, 3.14, 3.14, 3.14],\n",
       "       [3.14, 3.14, 3.14, 3.14, 3.14, 3.14, 3.14, 3.14, 3.14, 3.14]])"
      ]
     },
     "execution_count": 73,
     "metadata": {},
     "output_type": "execute_result"
    }
   ],
   "source": [
    "np.multiply(arr,3.14)"
   ]
  },
  {
   "cell_type": "code",
   "execution_count": 74,
   "metadata": {},
   "outputs": [
    {
     "data": {
      "text/plain": [
       "array([[2., 2., 2., 2., 2., 2., 2., 2., 2., 2.],\n",
       "       [2., 2., 2., 2., 2., 2., 2., 2., 2., 2.],\n",
       "       [2., 2., 2., 2., 2., 2., 2., 2., 2., 2.],\n",
       "       [2., 2., 2., 2., 2., 2., 2., 2., 2., 2.],\n",
       "       [2., 2., 2., 2., 2., 2., 2., 2., 2., 2.],\n",
       "       [2., 2., 2., 2., 2., 2., 2., 2., 2., 2.],\n",
       "       [2., 2., 2., 2., 2., 2., 2., 2., 2., 2.],\n",
       "       [2., 2., 2., 2., 2., 2., 2., 2., 2., 2.],\n",
       "       [2., 2., 2., 2., 2., 2., 2., 2., 2., 2.],\n",
       "       [2., 2., 2., 2., 2., 2., 2., 2., 2., 2.]])"
      ]
     },
     "execution_count": 74,
     "metadata": {},
     "output_type": "execute_result"
    }
   ],
   "source": [
    "#OR\n",
    "arr*2"
   ]
  },
  {
   "cell_type": "code",
   "execution_count": 75,
   "metadata": {},
   "outputs": [
    {
     "data": {
      "text/plain": [
       "array([[0., 0., 0., 0., 0., 0., 0., 0., 0., 0.],\n",
       "       [0., 0., 0., 0., 0., 0., 0., 0., 0., 0.],\n",
       "       [0., 0., 0., 0., 0., 0., 0., 0., 0., 0.],\n",
       "       [0., 0., 0., 0., 0., 0., 0., 0., 0., 0.],\n",
       "       [0., 0., 0., 0., 0., 0., 0., 0., 0., 0.],\n",
       "       [0., 0., 0., 0., 0., 0., 0., 0., 0., 0.],\n",
       "       [0., 0., 0., 0., 0., 0., 0., 0., 0., 0.],\n",
       "       [0., 0., 0., 0., 0., 0., 0., 0., 0., 0.],\n",
       "       [0., 0., 0., 0., 0., 0., 0., 0., 0., 0.],\n",
       "       [0., 0., 0., 0., 0., 0., 0., 0., 0., 0.]])"
      ]
     },
     "execution_count": 75,
     "metadata": {},
     "output_type": "execute_result"
    }
   ],
   "source": [
    "np.subtract(arr,1)"
   ]
  },
  {
   "cell_type": "code",
   "execution_count": 76,
   "metadata": {},
   "outputs": [
    {
     "data": {
      "text/plain": [
       "array([[0., 0., 0., 0., 0., 0., 0., 0., 0., 0.],\n",
       "       [0., 0., 0., 0., 0., 0., 0., 0., 0., 0.],\n",
       "       [0., 0., 0., 0., 0., 0., 0., 0., 0., 0.],\n",
       "       [0., 0., 0., 0., 0., 0., 0., 0., 0., 0.],\n",
       "       [0., 0., 0., 0., 0., 0., 0., 0., 0., 0.],\n",
       "       [0., 0., 0., 0., 0., 0., 0., 0., 0., 0.],\n",
       "       [0., 0., 0., 0., 0., 0., 0., 0., 0., 0.],\n",
       "       [0., 0., 0., 0., 0., 0., 0., 0., 0., 0.],\n",
       "       [0., 0., 0., 0., 0., 0., 0., 0., 0., 0.],\n",
       "       [0., 0., 0., 0., 0., 0., 0., 0., 0., 0.]])"
      ]
     },
     "execution_count": 76,
     "metadata": {},
     "output_type": "execute_result"
    }
   ],
   "source": [
    "#OR\n",
    "arr -1 "
   ]
  },
  {
   "cell_type": "code",
   "execution_count": 77,
   "metadata": {},
   "outputs": [
    {
     "data": {
      "text/plain": [
       "array([[0.5, 0.5, 0.5, 0.5, 0.5, 0.5, 0.5, 0.5, 0.5, 0.5],\n",
       "       [0.5, 0.5, 0.5, 0.5, 0.5, 0.5, 0.5, 0.5, 0.5, 0.5],\n",
       "       [0.5, 0.5, 0.5, 0.5, 0.5, 0.5, 0.5, 0.5, 0.5, 0.5],\n",
       "       [0.5, 0.5, 0.5, 0.5, 0.5, 0.5, 0.5, 0.5, 0.5, 0.5],\n",
       "       [0.5, 0.5, 0.5, 0.5, 0.5, 0.5, 0.5, 0.5, 0.5, 0.5],\n",
       "       [0.5, 0.5, 0.5, 0.5, 0.5, 0.5, 0.5, 0.5, 0.5, 0.5],\n",
       "       [0.5, 0.5, 0.5, 0.5, 0.5, 0.5, 0.5, 0.5, 0.5, 0.5],\n",
       "       [0.5, 0.5, 0.5, 0.5, 0.5, 0.5, 0.5, 0.5, 0.5, 0.5],\n",
       "       [0.5, 0.5, 0.5, 0.5, 0.5, 0.5, 0.5, 0.5, 0.5, 0.5],\n",
       "       [0.5, 0.5, 0.5, 0.5, 0.5, 0.5, 0.5, 0.5, 0.5, 0.5]])"
      ]
     },
     "execution_count": 77,
     "metadata": {},
     "output_type": "execute_result"
    }
   ],
   "source": [
    "np.divide(arr,2)"
   ]
  },
  {
   "cell_type": "code",
   "execution_count": 78,
   "metadata": {},
   "outputs": [
    {
     "data": {
      "text/plain": [
       "array([[0.5, 0.5, 0.5, 0.5, 0.5, 0.5, 0.5, 0.5, 0.5, 0.5],\n",
       "       [0.5, 0.5, 0.5, 0.5, 0.5, 0.5, 0.5, 0.5, 0.5, 0.5],\n",
       "       [0.5, 0.5, 0.5, 0.5, 0.5, 0.5, 0.5, 0.5, 0.5, 0.5],\n",
       "       [0.5, 0.5, 0.5, 0.5, 0.5, 0.5, 0.5, 0.5, 0.5, 0.5],\n",
       "       [0.5, 0.5, 0.5, 0.5, 0.5, 0.5, 0.5, 0.5, 0.5, 0.5],\n",
       "       [0.5, 0.5, 0.5, 0.5, 0.5, 0.5, 0.5, 0.5, 0.5, 0.5],\n",
       "       [0.5, 0.5, 0.5, 0.5, 0.5, 0.5, 0.5, 0.5, 0.5, 0.5],\n",
       "       [0.5, 0.5, 0.5, 0.5, 0.5, 0.5, 0.5, 0.5, 0.5, 0.5],\n",
       "       [0.5, 0.5, 0.5, 0.5, 0.5, 0.5, 0.5, 0.5, 0.5, 0.5],\n",
       "       [0.5, 0.5, 0.5, 0.5, 0.5, 0.5, 0.5, 0.5, 0.5, 0.5]])"
      ]
     },
     "execution_count": 78,
     "metadata": {},
     "output_type": "execute_result"
    }
   ],
   "source": [
    "#OR\n",
    "arr/2"
   ]
  },
  {
   "cell_type": "code",
   "execution_count": 79,
   "metadata": {},
   "outputs": [
    {
     "data": {
      "text/plain": [
       "array([[0., 0., 0., 0., 0., 0., 0., 0., 0., 0.],\n",
       "       [0., 0., 0., 0., 0., 0., 0., 0., 0., 0.],\n",
       "       [0., 0., 0., 0., 0., 0., 0., 0., 0., 0.],\n",
       "       [0., 0., 0., 0., 0., 0., 0., 0., 0., 0.],\n",
       "       [0., 0., 0., 0., 0., 0., 0., 0., 0., 0.],\n",
       "       [0., 0., 0., 0., 0., 0., 0., 0., 0., 0.],\n",
       "       [0., 0., 0., 0., 0., 0., 0., 0., 0., 0.],\n",
       "       [0., 0., 0., 0., 0., 0., 0., 0., 0., 0.],\n",
       "       [0., 0., 0., 0., 0., 0., 0., 0., 0., 0.],\n",
       "       [0., 0., 0., 0., 0., 0., 0., 0., 0., 0.]])"
      ]
     },
     "execution_count": 79,
     "metadata": {},
     "output_type": "execute_result"
    }
   ],
   "source": [
    "np.remainder(arr,1)"
   ]
  },
  {
   "cell_type": "code",
   "execution_count": 80,
   "metadata": {},
   "outputs": [
    {
     "data": {
      "text/plain": [
       "array([[0., 0., 0., 0., 0., 0., 0., 0., 0., 0.],\n",
       "       [0., 0., 0., 0., 0., 0., 0., 0., 0., 0.],\n",
       "       [0., 0., 0., 0., 0., 0., 0., 0., 0., 0.],\n",
       "       [0., 0., 0., 0., 0., 0., 0., 0., 0., 0.],\n",
       "       [0., 0., 0., 0., 0., 0., 0., 0., 0., 0.],\n",
       "       [0., 0., 0., 0., 0., 0., 0., 0., 0., 0.],\n",
       "       [0., 0., 0., 0., 0., 0., 0., 0., 0., 0.],\n",
       "       [0., 0., 0., 0., 0., 0., 0., 0., 0., 0.],\n",
       "       [0., 0., 0., 0., 0., 0., 0., 0., 0., 0.],\n",
       "       [0., 0., 0., 0., 0., 0., 0., 0., 0., 0.]])"
      ]
     },
     "execution_count": 80,
     "metadata": {},
     "output_type": "execute_result"
    }
   ],
   "source": [
    "#OR\n",
    "arr % 1"
   ]
  },
  {
   "cell_type": "code",
   "execution_count": 81,
   "metadata": {},
   "outputs": [
    {
     "data": {
      "text/plain": [
       "100.0"
      ]
     },
     "execution_count": 81,
     "metadata": {},
     "output_type": "execute_result"
    }
   ],
   "source": [
    "arr.sum()"
   ]
  },
  {
   "cell_type": "code",
   "execution_count": 82,
   "metadata": {},
   "outputs": [
    {
     "data": {
      "text/plain": [
       "1.0"
      ]
     },
     "execution_count": 82,
     "metadata": {},
     "output_type": "execute_result"
    }
   ],
   "source": [
    "arr.min()"
   ]
  },
  {
   "cell_type": "code",
   "execution_count": 83,
   "metadata": {},
   "outputs": [
    {
     "data": {
      "text/plain": [
       "1.0"
      ]
     },
     "execution_count": 83,
     "metadata": {},
     "output_type": "execute_result"
    }
   ],
   "source": [
    "arr.max()"
   ]
  },
  {
   "cell_type": "code",
   "execution_count": 84,
   "metadata": {},
   "outputs": [
    {
     "data": {
      "text/plain": [
       "1.0"
      ]
     },
     "execution_count": 84,
     "metadata": {},
     "output_type": "execute_result"
    }
   ],
   "source": [
    "arr.mean()"
   ]
  },
  {
   "cell_type": "markdown",
   "metadata": {},
   "source": [
    "# <font color = magenta> NumPy Problem 1 </font>\n",
    "<font color = magenta>\n",
    "Create the three arrays displayed in the image, below.\n",
    "\n",
    "<img src = \"https://i.stack.imgur.com/ojnFF.jpg\">"
   ]
  },
  {
   "cell_type": "code",
   "execution_count": 190,
   "metadata": {},
   "outputs": [
    {
     "data": {
      "text/plain": [
       "array([[4, 6, 4],\n",
       "       [1, 1, 8],\n",
       "       [0, 7, 5],\n",
       "       [5, 3, 3],\n",
       "       [8, 9, 5]])"
      ]
     },
     "execution_count": 190,
     "metadata": {},
     "output_type": "execute_result"
    }
   ],
   "source": [
    "#Array 1\n",
    "lst = [[4,6,4],[1,1,8],[0,7,5],[5,3,3],[8,9,5]]\n",
    "arr1 = np.array(lst)\n",
    "arr1"
   ]
  },
  {
   "cell_type": "code",
   "execution_count": 191,
   "metadata": {},
   "outputs": [
    {
     "data": {
      "text/plain": [
       "array([[8, 8, 4],\n",
       "       [3, 4, 4],\n",
       "       [0, 0, 9],\n",
       "       [3, 7, 3],\n",
       "       [3, 4, 7]])"
      ]
     },
     "execution_count": 191,
     "metadata": {},
     "output_type": "execute_result"
    }
   ],
   "source": [
    "#Array 2\n",
    "lst = [[8,8,4],[3,4,4],[0,0,9],[3,7,3],[3,4,7]]\n",
    "arr2 = np.array(lst)\n",
    "arr2"
   ]
  },
  {
   "cell_type": "code",
   "execution_count": 192,
   "metadata": {},
   "outputs": [
    {
     "data": {
      "text/plain": [
       "array([[9, 5, 4],\n",
       "       [7, 7, 3],\n",
       "       [9, 5, 9],\n",
       "       [8, 7, 8],\n",
       "       [5, 8, 8]])"
      ]
     },
     "execution_count": 192,
     "metadata": {},
     "output_type": "execute_result"
    }
   ],
   "source": [
    "#Array 3\n",
    "lst = [[9,5,4],[7,7,3],[9,5,9],[8,7,8],[5,8,8]]\n",
    "arr3 = np.array(lst)\n",
    "arr3"
   ]
  },
  {
   "cell_type": "markdown",
   "metadata": {},
   "source": [
    "# <font color = magenta> NumPy Problem 2 </font>\n",
    "<font color = magenta>\n",
    "Create a multidimensional array of your dimension choice and fill it random values(not filled manually)."
   ]
  },
  {
   "cell_type": "code",
   "execution_count": 194,
   "metadata": {},
   "outputs": [],
   "source": [
    "arr = np.random.random((3,4))"
   ]
  },
  {
   "cell_type": "markdown",
   "metadata": {},
   "source": [
    "Find the min and max values of your array."
   ]
  },
  {
   "cell_type": "code",
   "execution_count": 197,
   "metadata": {},
   "outputs": [
    {
     "name": "stdout",
     "output_type": "stream",
     "text": [
      "0.8992371611576009\n"
     ]
    },
    {
     "data": {
      "text/plain": [
       "0.21121295241782634"
      ]
     },
     "execution_count": 197,
     "metadata": {},
     "output_type": "execute_result"
    }
   ],
   "source": [
    "print(np.max(arr))\n",
    "np.min(arr)"
   ]
  },
  {
   "cell_type": "markdown",
   "metadata": {},
   "source": [
    "# <font color = magenta> NumPy Problem 3 </font>\n",
    "<font color = magenta>\n",
    "Create another multidimensional array of your dimension choice and fill it random values(not filled manually). Find the max value of your new array and replace it with your min value. Find the min value and replace it in your array with the max value."
   ]
  },
  {
   "cell_type": "code",
   "execution_count": 243,
   "metadata": {},
   "outputs": [
    {
     "name": "stdout",
     "output_type": "stream",
     "text": [
      "[[0.46398968 0.38997113 0.02509288]\n",
      " [0.49051492 0.79749971 0.78806293]]\n",
      "(1, 1)\n",
      "(0, 2)\n",
      "[[0.46398968 0.38997113 0.79749971]\n",
      " [0.49051492 0.02509288 0.78806293]]\n"
     ]
    }
   ],
   "source": [
    "arr = np.random.random((2,3))\n",
    "print(arr)\n",
    "print(np.unravel_index(np.argmax(arr), arr.shape))\n",
    "print(np.unravel_index(np.argmin(arr), arr.shape))\n",
    "arr[np.unravel_index(np.argmax(arr), arr.shape)], arr[np.unravel_index(np.argmin(arr), arr.shape)] = \\\n",
    "arr[np.unravel_index(np.argmin(arr), arr.shape)], arr[np.unravel_index(np.argmax(arr), arr.shape)] \n",
    "print(arr)"
   ]
  },
  {
   "cell_type": "markdown",
   "metadata": {},
   "source": [
    "# <font color = magenta> NumPy Problem 4 </font>\n",
    "\n",
    "Create a random vector of size 10 and sort it."
   ]
  },
  {
   "cell_type": "code",
   "execution_count": 249,
   "metadata": {},
   "outputs": [
    {
     "name": "stdout",
     "output_type": "stream",
     "text": [
      "[0.73061915 0.80843236 0.83561698 0.83820529 0.59629959 0.77791615\n",
      " 0.48081186 0.25537735 0.01246948 0.906847  ]\n",
      "[0.01246948 0.25537735 0.48081186 0.59629959 0.73061915 0.77791615\n",
      " 0.80843236 0.83561698 0.83820529 0.906847  ]\n"
     ]
    }
   ],
   "source": [
    "v = np.random.random(10)\n",
    "print(v)\n",
    "v_sort = np.sort(v)\n",
    "print(v_sort)"
   ]
  },
  {
   "cell_type": "markdown",
   "metadata": {},
   "source": [
    "# <font color = magenta> NumPy Problem 5 </font>\n",
    "\n",
    "<font color = magenta>\n",
    "How to swap two rows of an array?"
   ]
  },
  {
   "cell_type": "code",
   "execution_count": 271,
   "metadata": {},
   "outputs": [
    {
     "name": "stdout",
     "output_type": "stream",
     "text": [
      "[[0.85365787 0.20253809 0.53272729]\n",
      " [0.18775441 0.5810277  0.2282274 ]]\n",
      "\n",
      "[[0.18775441 0.5810277  0.2282274 ]\n",
      " [0.85365787 0.20253809 0.53272729]]\n"
     ]
    }
   ],
   "source": [
    "arr = np.random.random((2,3))\n",
    "print(arr)\n",
    "#print(arr[[0]])\n",
    "#print(arr[[1]])\n",
    "print()\n",
    "print(arr[[1, 0]])"
   ]
  },
  {
   "cell_type": "markdown",
   "metadata": {
    "collapsed": true
   },
   "source": [
    "# Numpy with Bay Area housing data set"
   ]
  },
  {
   "cell_type": "code",
   "execution_count": 2,
   "metadata": {},
   "outputs": [],
   "source": [
    "def read_file_housing(filename):\n",
    "    file_open = open(filename,\"r\")\n",
    "    fixed_file = open(\"fixed-housing-data.csv\",\"w\")\n",
    "    line_count = 0\n",
    "    for line in iter(file_open):\n",
    "        line_count += 1\n",
    "        if \"HomeID\" in line:\n",
    "            continue\n",
    "        line_no_newline = line.rstrip()\n",
    "        line1 = line_no_newline.replace(\"84085\",\"94085\") #Ex9\n",
    "        line2 = line1.replace(\"84087\",\"94087\") #Ex9\n",
    "        line3 = line2.replace(\"85014\",\"95014\") #Ex9\n",
    "        line4 = line3.replace(\"85051\",\"95051\") #Ex9\n",
    "        line5 = line4.replace(\"l\",\"1\") #Ex11 -- Car_Garage\n",
    "        line_split = line5.split(\",\")\n",
    "        if (int(line_split[5]) < 100): #Ex10 -- School_API\n",
    "            line_split[5] = int(line_split[5]) * 10\n",
    "        else:\n",
    "            line_split[5] = int(line_split[5])\n",
    "        line_split = [str(x) for x in line_split]\n",
    "        myString = \",\".join(line_split) + \"\\n\"\n",
    "        fixed_file.write(myString)\n",
    "    file_open.close()\n",
    "    fixed_file.close()\n",
    "    return"
   ]
  },
  {
   "cell_type": "code",
   "execution_count": 3,
   "metadata": {},
   "outputs": [],
   "source": [
    "read_file_housing(\"bayarea_home_prices.csv\")"
   ]
  },
  {
   "cell_type": "code",
   "execution_count": 4,
   "metadata": {},
   "outputs": [],
   "source": [
    "import numpy as np"
   ]
  },
  {
   "cell_type": "code",
   "execution_count": 5,
   "metadata": {},
   "outputs": [
    {
     "data": {
      "text/plain": [
       "'\\n0 = HomeID\\n1 = HomeAge\\n2 = HomeSqft\\n3 = LotSize\\n4 = BedRooms\\n5 = HighSchoolAPI\\n6 = ProxFwy\\n7 = CarGarage\\n8 = ZipCode\\n9 = HomePriceK\\n'"
      ]
     },
     "execution_count": 5,
     "metadata": {},
     "output_type": "execute_result"
    }
   ],
   "source": [
    "\"\"\"\n",
    "0 = HomeID\n",
    "1 = HomeAge\n",
    "2 = HomeSqft\n",
    "3 = LotSize\n",
    "4 = BedRooms\n",
    "5 = HighSchoolAPI\n",
    "6 = ProxFwy\n",
    "7 = CarGarage\n",
    "8 = ZipCode\n",
    "9 = HomePriceK\n",
    "\"\"\""
   ]
  },
  {
   "cell_type": "code",
   "execution_count": 6,
   "metadata": {},
   "outputs": [],
   "source": [
    "housing = np.loadtxt(\"fixed-housing-data.csv\",\n",
    "                          dtype=int,\n",
    "                          delimiter=\",\")"
   ]
  },
  {
   "cell_type": "code",
   "execution_count": 7,
   "metadata": {},
   "outputs": [
    {
     "name": "stdout",
     "output_type": "stream",
     "text": [
      "[[    1    24  1757  6056     2   899     3     3 94085   894]\n",
      " [    2    10  1563  6085     2   959     4     3 94085   861]\n",
      " [    3    14  1344  6089     2   865     4     3 94085   831]]\n"
     ]
    }
   ],
   "source": [
    "print(housing[0:3])"
   ]
  },
  {
   "cell_type": "code",
   "execution_count": 8,
   "metadata": {},
   "outputs": [
    {
     "name": "stdout",
     "output_type": "stream",
     "text": [
      "(100, 10)\n"
     ]
    }
   ],
   "source": [
    "print(housing.shape)"
   ]
  },
  {
   "cell_type": "code",
   "execution_count": 9,
   "metadata": {},
   "outputs": [
    {
     "name": "stdout",
     "output_type": "stream",
     "text": [
      "[ 894  861  831  809  890  867  843  820  874  885  903  912  933  865\n",
      "  918  950  882  896  942  859  904  912  916  972  908  934  914  949\n",
      "  919  953  991 1049 1042  994 1030 1019 1044 1038 1024  976 1115 1128\n",
      " 1071 1059 1000 1185 1015 1114 1138 1068 1068 1097 1074 1114 1075 1130\n",
      " 1116 1103 1080 1150 1177 1149 1163 1132 1138 1199 1179 1173 1128 1165\n",
      " 1233 1180 1240 1242 1184 1173 1194 1181 1190 1182 1221 1288 1275 1300\n",
      " 1272 1294 1219 1282 1256 1205 1252 1294 1269 1335 1267 1307 1336 1284\n",
      " 1269 1250]\n"
     ]
    }
   ],
   "source": [
    "# home prices\n",
    "print(housing[:,9])"
   ]
  },
  {
   "cell_type": "code",
   "execution_count": 10,
   "metadata": {},
   "outputs": [
    {
     "name": "stdout",
     "output_type": "stream",
     "text": [
      "[ 983.4  947.1  914.1  889.9  979.   953.7  927.3  902.   961.4  973.5\n",
      "  993.3 1003.2 1026.3  951.5 1009.8 1045.   970.2  985.6 1036.2  944.9\n",
      "  994.4 1003.2 1007.6 1069.2  998.8 1027.4 1005.4 1043.9 1010.9 1048.3\n",
      " 1090.1 1153.9 1146.2 1093.4 1133.  1120.9 1148.4 1141.8 1126.4 1073.6\n",
      " 1226.5 1240.8 1178.1 1164.9 1100.  1303.5 1116.5 1225.4 1251.8 1174.8\n",
      " 1174.8 1206.7 1181.4 1225.4 1182.5 1243.  1227.6 1213.3 1188.  1265.\n",
      " 1294.7 1263.9 1279.3 1245.2 1251.8 1318.9 1296.9 1290.3 1240.8 1281.5\n",
      " 1356.3 1298.  1364.  1366.2 1302.4 1290.3 1313.4 1299.1 1309.  1300.2\n",
      " 1343.1 1416.8 1402.5 1430.  1399.2 1423.4 1340.9 1410.2 1381.6 1325.5\n",
      " 1377.2 1423.4 1395.9 1468.5 1393.7 1437.7 1469.6 1412.4 1395.9 1375. ]\n"
     ]
    }
   ],
   "source": [
    "inflation = 0.1\n",
    "print(housing[:,9] *(1+inflation) )"
   ]
  },
  {
   "cell_type": "code",
   "execution_count": 11,
   "metadata": {},
   "outputs": [
    {
     "name": "stdout",
     "output_type": "stream",
     "text": [
      "[   5050    1720  161528  784050     271   90443     310     152 9455925\n",
      "  108099]\n"
     ]
    }
   ],
   "source": [
    "print(housing.sum(axis=0)) # sum by columns"
   ]
  },
  {
   "cell_type": "code",
   "execution_count": 25,
   "metadata": {},
   "outputs": [
    {
     "name": "stdout",
     "output_type": "stream",
     "text": [
      "[[    1    24  1757  6056     2   899     3     3 94085   894]\n",
      " [    2    10  1563  6085     2   959     4     3 94085   861]\n",
      " [    3    14  1344  6089     2   865     4     3 94085   831]\n",
      " [    4    14  1215  6129     3   959     4     2 94085   809]\n",
      " [    5    24  1866  6141     3   877     4     1 94085   890]\n",
      " [    6    18  1589  6148     2   920     3     0 94085   867]\n",
      " [    7    13  1947  6183     3   959     3     1 94085   843]\n",
      " [    8    19  1839  6186     3   905     4     0 94085   820]\n",
      " [    9    17  1501  6233     2   884     3     1 94085   874]\n",
      " [   10    24  1933  6276     2   950     4     1 94085   885]\n",
      " [   11    12  1798  6346     3   931     3     2 94085   903]\n",
      " [   12    22  1221  6430     3   904     2     1 94085   912]\n",
      " [   13    15  1541  6514     2   872     2     1 94085   933]\n",
      " [   14    25  1974  6547     2   857     4     3 94085   865]\n",
      " [   15    10  1510  6633     2   884     3     2 94085   918]]\n",
      "\n",
      "<class 'numpy.ndarray'>\n",
      "\n",
      "[103724 103574 103240 103224 103896 103638 104044 103869 103609 104170\n",
      " 104094 103592 103978 104376 104062]\n"
     ]
    }
   ],
   "source": [
    "print(housing[0:15])\n",
    "print()\n",
    "print(type(housing[0:15]))\n",
    "print()\n",
    "print(housing[0:15].sum(axis=1)) # sum by rows"
   ]
  },
  {
   "cell_type": "code",
   "execution_count": 37,
   "metadata": {},
   "outputs": [
    {
     "name": "stdout",
     "output_type": "stream",
     "text": [
      "[ True  True  True  True  True  True  True  True  True  True  True  True\n",
      "  True  True  True False  True  True False  True  True  True  True False\n",
      "  True  True  True False  True False False False False False False False\n",
      " False False False False False False False False False False False False\n",
      " False False False False False False False False False False False False\n",
      " False False False False False False False False False False False False\n",
      " False False False False False False False False False False False False\n",
      " False False False False False False False False False False False False\n",
      " False False False False]\n",
      "\n",
      "<class 'numpy.ndarray'>\n"
     ]
    },
    {
     "data": {
      "text/plain": [
       "1"
      ]
     },
     "execution_count": 37,
     "metadata": {},
     "output_type": "execute_result"
    }
   ],
   "source": [
    "homes_94085 = (housing[:,8] == 94085)\n",
    "#print(housing[0:5,7:])\n",
    "print(homes_94085)\n",
    "print()\n",
    "print(type(homes_94085))\n",
    "homes_94085.ndim"
   ]
  },
  {
   "cell_type": "code",
   "execution_count": 62,
   "metadata": {},
   "outputs": [
    {
     "name": "stdout",
     "output_type": "stream",
     "text": [
      "[[    1    24  1757  6056     2   899     3     3 94085   894]\n",
      " [    2    10  1563  6085     2   959     4     3 94085   861]\n",
      " [    3    14  1344  6089     2   865     4     3 94085   831]\n",
      " [    4    14  1215  6129     3   959     4     2 94085   809]\n",
      " [    5    24  1866  6141     3   877     4     1 94085   890]\n",
      " [    6    18  1589  6148     2   920     3     0 94085   867]\n",
      " [    7    13  1947  6183     3   959     3     1 94085   843]\n",
      " [    8    19  1839  6186     3   905     4     0 94085   820]\n",
      " [    9    17  1501  6233     2   884     3     1 94085   874]\n",
      " [   10    24  1933  6276     2   950     4     1 94085   885]\n",
      " [   11    12  1798  6346     3   931     3     2 94085   903]\n",
      " [   12    22  1221  6430     3   904     2     1 94085   912]\n",
      " [   13    15  1541  6514     2   872     2     1 94085   933]\n",
      " [   14    25  1974  6547     2   857     4     3 94085   865]\n",
      " [   15    10  1510  6633     2   884     3     2 94085   918]\n",
      " [   17    23  1464  6773     3   965     4     2 94085   882]\n",
      " [   18    16  1572  6809     2   935     2     0 94085   896]\n",
      " [   20    13  1358  6819     2   851     3     2 94085   859]\n",
      " [   21    17  1246  6870     3   922     4     3 94085   904]\n",
      " [   22    10  1752  6892     3   904     3     0 94085   912]\n",
      " [   23    15  1828  6956     3   851     4     3 94085   916]\n",
      " [   25    21  1991  7022     2   900     3     1 94085   908]\n",
      " [   26    12  1500  7025     2   856     4     2 94085   934]\n",
      " [   27    13  1836  7027     2   966     3     3 94085   914]\n",
      " [   29    17  1446  7098     2   900     4     3 94085   919]]\n"
     ]
    }
   ],
   "source": [
    "data_94085 = housing[homes_94085]\n",
    "print(data_94085)"
   ]
  },
  {
   "cell_type": "code",
   "execution_count": 16,
   "metadata": {},
   "outputs": [
    {
     "name": "stdout",
     "output_type": "stream",
     "text": [
      "22149\n"
     ]
    }
   ],
   "source": [
    "sum_price_94085 = data_94085[:,9].sum()\n",
    "print(sum_price_94085)\n"
   ]
  },
  {
   "cell_type": "code",
   "execution_count": 17,
   "metadata": {},
   "outputs": [
    {
     "name": "stdout",
     "output_type": "stream",
     "text": [
      "25\n"
     ]
    }
   ],
   "source": [
    "print(len(data_94085))"
   ]
  },
  {
   "cell_type": "code",
   "execution_count": 18,
   "metadata": {},
   "outputs": [
    {
     "name": "stdout",
     "output_type": "stream",
     "text": [
      "25\n"
     ]
    }
   ],
   "source": [
    "print(data_94085.shape[0])"
   ]
  },
  {
   "cell_type": "code",
   "execution_count": 19,
   "metadata": {},
   "outputs": [
    {
     "name": "stdout",
     "output_type": "stream",
     "text": [
      "10\n"
     ]
    }
   ],
   "source": [
    "print(data_94085.shape[1])"
   ]
  },
  {
   "cell_type": "code",
   "execution_count": 20,
   "metadata": {},
   "outputs": [
    {
     "name": "stdout",
     "output_type": "stream",
     "text": [
      "885.96\n"
     ]
    }
   ],
   "source": [
    "average_94085 = sum_price_94085/25\n",
    "print(average_94085)"
   ]
  },
  {
   "cell_type": "markdown",
   "metadata": {},
   "source": [
    "# NumPy Problem 6\n",
    "### Calculate average price in each zip code: 94085, 94087, 95014, 95051\n",
    "### Calculate minimum and max price in each zip code: 94085, 94087, 95014, 95051\n",
    "### Calculate standard deviation of price in each zip code: 94085, 94087, 95014, 95051"
   ]
  },
  {
   "cell_type": "code",
   "execution_count": 80,
   "metadata": {},
   "outputs": [
    {
     "name": "stdout",
     "output_type": "stream",
     "text": [
      "zip_code average_price min_price max_price standard_deviation_price\n",
      "94085 885.96 809 934 33.71347505078644\n",
      "94087 1151.48 1103 1190 27.56536957851282\n",
      "95014 1263.32 1194 1336 37.73986751434085\n",
      "95051 1023.2 942 1097 46.03563836855095\n"
     ]
    }
   ],
   "source": [
    "# Your code here\n",
    "lst = [94085, 94087, 95014, 95051]\n",
    "print(\"zip_code\", \"average_price\", \"min_price\", \"max_price\", \"standard_deviation_price\")\n",
    "\n",
    "for z in lst:\n",
    "    homes_zip = (housing[:,8] == z)\n",
    "    data_zip = housing[homes_zip]\n",
    "    price_zip = data_zip[:, 9]\n",
    "    price_zip_mean = price_zip.mean()\n",
    "    price_zip_min = price_zip.min()\n",
    "    price_zip_max = price_zip.max()\n",
    "    price_zip_std = np.std(price_zip)\n",
    "    print(z, price_zip_mean, price_zip_min, price_zip_max, price_zip_std)\n",
    "    "
   ]
  },
  {
   "cell_type": "code",
   "execution_count": 81,
   "metadata": {},
   "outputs": [
    {
     "name": "stdout",
     "output_type": "stream",
     "text": [
      "[64 72 22 19 78 76 18 31 94 25 98 52 66 99 13 43 84 93  2 51 41 63 61 12\n",
      " 73 55 81  4 89 86 69 88 57 79 14  8 53 70 48 54 47 39 27 71 80 15  0 24\n",
      " 28 60 46 65 59 21 11  7 23 95 42 97 45 40 30 91  5 20 85 35 77 62 87 83\n",
      " 10 29 17 33 74 67 90 82 92 96 38 50 49  9 56 58 75  6 32  3  1 44 36 68\n",
      " 16 26 34 37]\n",
      "[[   65    14  1617  8394     2   850     2     0 94087  1138]\n",
      " [   73    25  1302  8668     3   850     4     2 95014  1240]\n",
      " [   23    15  1828  6956     3   851     4     3 94085   916]\n",
      " [   20    13  1358  6819     2   851     3     2 94085   859]\n",
      " [   79    17  1373  8953     2   851     2     0 94087  1190]\n",
      " [   77    17  1881  8921     3   852     2     0 95014  1194]\n",
      " [   19    10  1246  6810     2   853     4     3 95051   942]\n",
      " [   32    18  1866  7181     2   854     2     3 95051  1049]\n",
      " [   95    13  1582  9339     3   856     3     0 95014  1267]\n",
      " [   26    12  1500  7025     2   856     4     2 94085   934]\n",
      " [   99    19  1880  9470     3   857     3     3 95014  1269]\n",
      " [   53    23  1289  7873     2   857     3     0 95051  1074]\n",
      " [   67    24  1947  8502     2   857     4     0 94087  1179]\n",
      " [  100    11  1691  9476     4   857     4     0 95014  1250]\n",
      " [   14    25  1974  6547     2   857     4     3 94085   865]\n",
      " [   44    11  1415  7541     3   859     4     0 95051  1059]\n",
      " [   85    22  1757  9163     3   861     2     3 95014  1272]\n",
      " [   94    21  1983  9337     4   862     2     2 95014  1335]\n",
      " [    3    14  1344  6089     2   865     4     3 94085   831]\n",
      " [   52    25  1535  7847     2   867     3     0 95051  1097]\n",
      " [   42    21  1836  7458     2   867     4     0 94087  1128]\n",
      " [   64    12  1249  8378     3   868     4     3 94087  1132]\n",
      " [   62    19  1672  8318     3   868     2     0 94087  1149]\n",
      " [   13    15  1541  6514     2   872     2     1 94085   933]\n",
      " [   74    17  1680  8698     2   875     3     3 95014  1242]\n",
      " [   56    11  1669  7958     3   876     4     1 94087  1130]\n",
      " [   82    19  1480  9095     4   877     4     1 95014  1288]\n",
      " [    5    24  1866  6141     3   877     4     1 94085   890]\n",
      " [   90    14  1652  9245     4   879     3     0 95014  1205]\n",
      " [   87    18  1314  9195     4   881     3     0 95014  1219]\n",
      " [   70    16  1739  8585     2   881     3     3 94087  1165]\n",
      " [   89    21  1994  9215     4   881     4     0 95014  1256]\n",
      " [   58    19  1382  8054     2   883     4     2 94087  1103]\n",
      " [   80    11  1370  8974     2   883     3     3 94087  1182]\n",
      " [   15    10  1510  6633     2   884     3     2 94085   918]\n",
      " [    9    17  1501  6233     2   884     3     1 94085   874]\n",
      " [   54    12  1401  7897     3   888     4     1 94087  1114]\n",
      " [   71    19  1615  8617     3   889     2     2 95014  1233]\n",
      " [   49    12  1385  7793     2   889     3     0 94087  1138]\n",
      " [   55    10  1721  7902     3   890     3     3 95051  1075]\n",
      " [   48    22  1420  7733     3   890     2     1 94087  1114]\n",
      " [   40    15  1883  7396     2   891     4     3 95051   976]\n",
      " [   28    10  1581  7073     3   892     4     2 95051   949]\n",
      " [   72    24  1643  8619     2   893     3     1 94087  1180]\n",
      " [   81    18  1524  9081     4   894     3     3 95014  1221]\n",
      " [   16    20  1979  6680     2   894     3     0 95051   950]\n",
      " [    1    24  1757  6056     2   899     3     3 94085   894]\n",
      " [   25    21  1991  7022     2   900     3     1 94085   908]\n",
      " [   29    17  1446  7098     2   900     4     3 94085   919]\n",
      " [   61    13  1432  8121     2   900     3     0 94087  1177]\n",
      " [   47    21  1871  7693     2   901     2     3 95051  1015]\n",
      " [   66    25  1358  8446     3   902     2     3 95014  1199]\n",
      " [   60    19  1522  8098     2   903     4     2 94087  1150]\n",
      " [   22    10  1752  6892     3   904     3     0 94085   912]\n",
      " [   12    22  1221  6430     3   904     2     1 94085   912]\n",
      " [    8    19  1839  6186     3   905     4     0 94085   820]\n",
      " [   24    10  1598  7011     2   911     3     1 95051   972]\n",
      " [   96    11  1981  9350     4   912     2     1 95014  1307]\n",
      " [   43    17  1773  7495     2   913     3     1 95051  1071]\n",
      " [   98    21  1312  9456     4   915     4     3 95014  1284]\n",
      " [   46    11  1639  7660     2   916     2     1 94087  1185]\n",
      " [   41    23  1754  7426     3   917     2     1 94087  1115]\n",
      " [   31    10  1843  7136     3   918     4     3 95051   991]\n",
      " [   92    18  1846  9292     4   920     4     3 95014  1294]\n",
      " [    6    18  1589  6148     2   920     3     0 94085   867]\n",
      " [   21    17  1246  6870     3   922     4     3 94085   904]\n",
      " [   86    19  1704  9179     4   924     3     0 95014  1294]\n",
      " [   36    14  1276  7303     2   925     3     0 95051  1019]\n",
      " [   78    25  1558  8942     3   927     4     0 94087  1181]\n",
      " [   63    25  1250  8348     2   928     3     0 94087  1163]\n",
      " [   88    22  1324  9211     4   929     2     3 95014  1282]\n",
      " [   84    25  1499  9122     4   931     4     0 95014  1300]\n",
      " [   11    12  1798  6346     3   931     3     2 94085   903]\n",
      " [   30    24  1893  7115     3   933     4     0 95051   953]\n",
      " [   18    16  1572  6809     2   935     2     0 94085   896]\n",
      " [   34    19  1659  7226     3   939     2     2 95051   994]\n",
      " [   75    14  1401  8825     3   940     2     2 94087  1184]\n",
      " [   68    12  1514  8512     3   940     3     3 94087  1173]\n",
      " [   91    16  1289  9289     4   941     3     3 95014  1252]\n",
      " [   83    24  1625  9106     3   941     3     3 95014  1275]\n",
      " [   93    25  1298  9309     3   942     3     0 95014  1269]\n",
      " [   97    10  1645  9352     4   942     3     3 95014  1336]\n",
      " [   39    22  1551  7388     2   942     2     2 95051  1024]\n",
      " [   51    19  1382  7841     2   948     3     0 95051  1068]\n",
      " [   50    19  1836  7803     3   949     3     0 95051  1068]\n",
      " [   10    24  1933  6276     2   950     4     1 94085   885]\n",
      " [   57    11  1927  7983     3   950     3     1 94087  1116]\n",
      " [   59    22  1559  8096     2   953     2     3 95051  1080]\n",
      " [   76    12  1947  8882     3   954     3     2 94087  1173]\n",
      " [    7    13  1947  6183     3   959     3     1 94085   843]\n",
      " [   33    11  1953  7199     3   959     3     2 95051  1042]\n",
      " [    4    14  1215  6129     3   959     4     2 94085   809]\n",
      " [    2    10  1563  6085     2   959     4     3 94085   861]\n",
      " [   45    15  1249  7609     3   960     2     2 95051  1000]\n",
      " [   37    13  1874  7333     3   960     3     2 95051  1044]\n",
      " [   69    21  1575  8579     2   962     4     3 94087  1128]\n",
      " [   17    23  1464  6773     3   965     4     2 94085   882]\n",
      " [   27    13  1836  7027     2   966     3     3 94085   914]\n",
      " [   35    12  1943  7249     2   974     2     0 95051  1030]\n",
      " [   38    22  1724  7339     3   975     3     3 95051  1038]]\n"
     ]
    }
   ],
   "source": [
    "h1 = housing[housing[:,5].argsort()] # by school_api ascending\n",
    "print(housing[:,5].argsort())\n",
    "print(h1)"
   ]
  },
  {
   "cell_type": "code",
   "execution_count": 23,
   "metadata": {},
   "outputs": [
    {
     "name": "stdout",
     "output_type": "stream",
     "text": [
      "[[   38    22  1724  7339     3   975     3     3 95051  1038]\n",
      " [   35    12  1943  7249     2   974     2     0 95051  1030]\n",
      " [   27    13  1836  7027     2   966     3     3 94085   914]\n",
      " [   17    23  1464  6773     3   965     4     2 94085   882]\n",
      " [   69    21  1575  8579     2   962     4     3 94087  1128]\n",
      " [   37    13  1874  7333     3   960     3     2 95051  1044]\n",
      " [   45    15  1249  7609     3   960     2     2 95051  1000]\n",
      " [    2    10  1563  6085     2   959     4     3 94085   861]\n",
      " [    4    14  1215  6129     3   959     4     2 94085   809]\n",
      " [   33    11  1953  7199     3   959     3     2 95051  1042]\n",
      " [    7    13  1947  6183     3   959     3     1 94085   843]\n",
      " [   76    12  1947  8882     3   954     3     2 94087  1173]\n",
      " [   59    22  1559  8096     2   953     2     3 95051  1080]\n",
      " [   57    11  1927  7983     3   950     3     1 94087  1116]\n",
      " [   10    24  1933  6276     2   950     4     1 94085   885]\n",
      " [   50    19  1836  7803     3   949     3     0 95051  1068]\n",
      " [   51    19  1382  7841     2   948     3     0 95051  1068]\n",
      " [   39    22  1551  7388     2   942     2     2 95051  1024]\n",
      " [   97    10  1645  9352     4   942     3     3 95014  1336]\n",
      " [   93    25  1298  9309     3   942     3     0 95014  1269]\n",
      " [   83    24  1625  9106     3   941     3     3 95014  1275]\n",
      " [   91    16  1289  9289     4   941     3     3 95014  1252]\n",
      " [   68    12  1514  8512     3   940     3     3 94087  1173]\n",
      " [   75    14  1401  8825     3   940     2     2 94087  1184]\n",
      " [   34    19  1659  7226     3   939     2     2 95051   994]\n",
      " [   18    16  1572  6809     2   935     2     0 94085   896]\n",
      " [   30    24  1893  7115     3   933     4     0 95051   953]\n",
      " [   11    12  1798  6346     3   931     3     2 94085   903]\n",
      " [   84    25  1499  9122     4   931     4     0 95014  1300]\n",
      " [   88    22  1324  9211     4   929     2     3 95014  1282]\n",
      " [   63    25  1250  8348     2   928     3     0 94087  1163]\n",
      " [   78    25  1558  8942     3   927     4     0 94087  1181]\n",
      " [   36    14  1276  7303     2   925     3     0 95051  1019]\n",
      " [   86    19  1704  9179     4   924     3     0 95014  1294]\n",
      " [   21    17  1246  6870     3   922     4     3 94085   904]\n",
      " [    6    18  1589  6148     2   920     3     0 94085   867]\n",
      " [   92    18  1846  9292     4   920     4     3 95014  1294]\n",
      " [   31    10  1843  7136     3   918     4     3 95051   991]\n",
      " [   41    23  1754  7426     3   917     2     1 94087  1115]\n",
      " [   46    11  1639  7660     2   916     2     1 94087  1185]\n",
      " [   98    21  1312  9456     4   915     4     3 95014  1284]\n",
      " [   43    17  1773  7495     2   913     3     1 95051  1071]\n",
      " [   96    11  1981  9350     4   912     2     1 95014  1307]\n",
      " [   24    10  1598  7011     2   911     3     1 95051   972]\n",
      " [    8    19  1839  6186     3   905     4     0 94085   820]\n",
      " [   12    22  1221  6430     3   904     2     1 94085   912]\n",
      " [   22    10  1752  6892     3   904     3     0 94085   912]\n",
      " [   60    19  1522  8098     2   903     4     2 94087  1150]\n",
      " [   66    25  1358  8446     3   902     2     3 95014  1199]\n",
      " [   47    21  1871  7693     2   901     2     3 95051  1015]\n",
      " [   61    13  1432  8121     2   900     3     0 94087  1177]\n",
      " [   29    17  1446  7098     2   900     4     3 94085   919]\n",
      " [   25    21  1991  7022     2   900     3     1 94085   908]\n",
      " [    1    24  1757  6056     2   899     3     3 94085   894]\n",
      " [   16    20  1979  6680     2   894     3     0 95051   950]\n",
      " [   81    18  1524  9081     4   894     3     3 95014  1221]\n",
      " [   72    24  1643  8619     2   893     3     1 94087  1180]\n",
      " [   28    10  1581  7073     3   892     4     2 95051   949]\n",
      " [   40    15  1883  7396     2   891     4     3 95051   976]\n",
      " [   48    22  1420  7733     3   890     2     1 94087  1114]\n",
      " [   55    10  1721  7902     3   890     3     3 95051  1075]\n",
      " [   49    12  1385  7793     2   889     3     0 94087  1138]\n",
      " [   71    19  1615  8617     3   889     2     2 95014  1233]\n",
      " [   54    12  1401  7897     3   888     4     1 94087  1114]\n",
      " [    9    17  1501  6233     2   884     3     1 94085   874]\n",
      " [   15    10  1510  6633     2   884     3     2 94085   918]\n",
      " [   80    11  1370  8974     2   883     3     3 94087  1182]\n",
      " [   58    19  1382  8054     2   883     4     2 94087  1103]\n",
      " [   89    21  1994  9215     4   881     4     0 95014  1256]\n",
      " [   70    16  1739  8585     2   881     3     3 94087  1165]\n",
      " [   87    18  1314  9195     4   881     3     0 95014  1219]\n",
      " [   90    14  1652  9245     4   879     3     0 95014  1205]\n",
      " [    5    24  1866  6141     3   877     4     1 94085   890]\n",
      " [   82    19  1480  9095     4   877     4     1 95014  1288]\n",
      " [   56    11  1669  7958     3   876     4     1 94087  1130]\n",
      " [   74    17  1680  8698     2   875     3     3 95014  1242]\n",
      " [   13    15  1541  6514     2   872     2     1 94085   933]\n",
      " [   62    19  1672  8318     3   868     2     0 94087  1149]\n",
      " [   64    12  1249  8378     3   868     4     3 94087  1132]\n",
      " [   42    21  1836  7458     2   867     4     0 94087  1128]\n",
      " [   52    25  1535  7847     2   867     3     0 95051  1097]\n",
      " [    3    14  1344  6089     2   865     4     3 94085   831]\n",
      " [   94    21  1983  9337     4   862     2     2 95014  1335]\n",
      " [   85    22  1757  9163     3   861     2     3 95014  1272]\n",
      " [   44    11  1415  7541     3   859     4     0 95051  1059]\n",
      " [   14    25  1974  6547     2   857     4     3 94085   865]\n",
      " [  100    11  1691  9476     4   857     4     0 95014  1250]\n",
      " [   67    24  1947  8502     2   857     4     0 94087  1179]\n",
      " [   53    23  1289  7873     2   857     3     0 95051  1074]\n",
      " [   99    19  1880  9470     3   857     3     3 95014  1269]\n",
      " [   26    12  1500  7025     2   856     4     2 94085   934]\n",
      " [   95    13  1582  9339     3   856     3     0 95014  1267]\n",
      " [   32    18  1866  7181     2   854     2     3 95051  1049]\n",
      " [   19    10  1246  6810     2   853     4     3 95051   942]\n",
      " [   77    17  1881  8921     3   852     2     0 95014  1194]\n",
      " [   79    17  1373  8953     2   851     2     0 94087  1190]\n",
      " [   20    13  1358  6819     2   851     3     2 94085   859]\n",
      " [   23    15  1828  6956     3   851     4     3 94085   916]\n",
      " [   73    25  1302  8668     3   850     4     2 95014  1240]\n",
      " [   65    14  1617  8394     2   850     2     0 94087  1138]]\n"
     ]
    }
   ],
   "source": [
    "h2 = housing[housing[:,5].argsort()[::-1]] # by school_api descending\n",
    "print(h2)"
   ]
  },
  {
   "cell_type": "markdown",
   "metadata": {},
   "source": [
    "# NumPy Problem 7\n",
    "### Find top-2 listings by School API for all zipcodes"
   ]
  },
  {
   "cell_type": "code",
   "execution_count": 105,
   "metadata": {},
   "outputs": [
    {
     "name": "stdout",
     "output_type": "stream",
     "text": [
      "top-2 listings by School API for zipcode 94085\n",
      "[[   27    13  1836  7027     2   966     3     3 94085   914]\n",
      " [   17    23  1464  6773     3   965     4     2 94085   882]]\n",
      "top-2 listings by School API for zipcode 94087\n",
      "[[   69    21  1575  8579     2   962     4     3 94087  1128]\n",
      " [   76    12  1947  8882     3   954     3     2 94087  1173]]\n",
      "top-2 listings by School API for zipcode 95014\n",
      "[[   97    10  1645  9352     4   942     3     3 95014  1336]\n",
      " [   93    25  1298  9309     3   942     3     0 95014  1269]]\n",
      "top-2 listings by School API for zipcode 95051\n",
      "[[   38    22  1724  7339     3   975     3     3 95051  1038]\n",
      " [   35    12  1943  7249     2   974     2     0 95051  1030]]\n"
     ]
    }
   ],
   "source": [
    "# Your code here\n",
    "lst = [94085, 94087, 95014, 95051]\n",
    "\n",
    "for z in lst:\n",
    "    homes_zip = (housing[:,8] == z)\n",
    "    data_zip = housing[homes_zip]\n",
    "    #print(data_zip)\n",
    "    #print()\n",
    "    #print(data_zip[:,5].argsort())\n",
    "    api_zip = data_zip[data_zip[:,5].argsort()[::-1]]\n",
    "    print(\"top-2 listings by School API for zipcode {}\".format(z))\n",
    "    print(api_zip[0:2])\n"
   ]
  },
  {
   "cell_type": "markdown",
   "metadata": {},
   "source": [
    "# NumPy Problem 8\n",
    "### Prices are expected to go up by 4% next year.\n",
    "### Add another column with predicted prices"
   ]
  },
  {
   "cell_type": "code",
   "execution_count": 177,
   "metadata": {},
   "outputs": [
    {
     "name": "stdout",
     "output_type": "stream",
     "text": [
      "[[    1    24  1757  6056     2   899     3     3 94085   894]\n",
      " [    2    10  1563  6085     2   959     4     3 94085   861]]\n",
      "\n",
      "[[    1    24  1757 ... 94085   894   929]\n",
      " [    2    10  1563 ... 94085   861   895]\n",
      " [    3    14  1344 ... 94085   831   864]\n",
      " ...\n",
      " [   98    21  1312 ... 95014  1284  1335]\n",
      " [   99    19  1880 ... 95014  1269  1319]\n",
      " [  100    11  1691 ... 95014  1250  1300]]\n"
     ]
    }
   ],
   "source": [
    "# Your code here\n",
    "print(housing[0:2])\n",
    "price = housing[:, 9]\n",
    "#print(price)\n",
    "price_next_year = np.int16(price * 1.04)\n",
    "\n",
    "#print(price_next_year)\n",
    "\n",
    "print()\n",
    "\n",
    "housing_new = np.column_stack((housing, price_next_year))\n",
    "print(housing_new)\n"
   ]
  },
  {
   "cell_type": "markdown",
   "metadata": {},
   "source": [
    "# NumPy Problem 9\n",
    "### Sort the matrix based on home prices. Save the updated numpy matrix with added column in Problem 8 to a file."
   ]
  },
  {
   "cell_type": "code",
   "execution_count": 185,
   "metadata": {},
   "outputs": [
    {
     "name": "stdout",
     "output_type": "stream",
     "text": [
      "[[    4    14  1215 ... 94085   809   841]\n",
      " [    8    19  1839 ... 94085   820   852]\n",
      " [    3    14  1344 ... 94085   831   864]\n",
      " ...\n",
      " [   96    11  1981 ... 95014  1307  1359]\n",
      " [   94    21  1983 ... 95014  1335  1388]\n",
      " [   97    10  1645 ... 95014  1336  1389]]\n",
      "4,14,1215,6129,3,959,4,2,94085,809,841\n",
      "\n",
      "8,19,1839,6186,3,905,4,0,94085,820,852\n",
      "\n",
      "3,14,1344,6089,2,865,4,3,94085,831,864\n",
      "\n",
      "7,13,1947,6183,3,959,3,1,94085,843,876\n",
      "\n",
      "20,13,1358,6819,2,851,3,2,94085,859,893\n",
      "\n",
      "2,10,1563,6085,2,959,4,3,94085,861,895\n",
      "\n",
      "14,25,1974,6547,2,857,4,3,94085,865,899\n",
      "\n",
      "6,18,1589,6148,2,920,3,0,94085,867,901\n",
      "\n",
      "9,17,1501,6233,2,884,3,1,94085,874,908\n",
      "\n",
      "17,23,1464,6773,3,965,4,2,94085,882,917\n",
      "\n",
      "10,24,1933,6276,2,950,4,1,94085,885,920\n",
      "\n",
      "5,24,1866,6141,3,877,4,1,94085,890,925\n",
      "\n",
      "1,24,1757,6056,2,899,3,3,94085,894,929\n",
      "\n",
      "18,16,1572,6809,2,935,2,0,94085,896,931\n",
      "\n",
      "11,12,1798,6346,3,931,3,2,94085,903,939\n",
      "\n",
      "21,17,1246,6870,3,922,4,3,94085,904,940\n",
      "\n",
      "25,21,1991,7022,2,900,3,1,94085,908,944\n",
      "\n",
      "22,10,1752,6892,3,904,3,0,94085,912,948\n",
      "\n",
      "12,22,1221,6430,3,904,2,1,94085,912,948\n",
      "\n",
      "27,13,1836,7027,2,966,3,3,94085,914,950\n",
      "\n",
      "23,15,1828,6956,3,851,4,3,94085,916,952\n",
      "\n",
      "15,10,1510,6633,2,884,3,2,94085,918,954\n",
      "\n",
      "29,17,1446,7098,2,900,4,3,94085,919,955\n",
      "\n",
      "13,15,1541,6514,2,872,2,1,94085,933,970\n",
      "\n",
      "26,12,1500,7025,2,856,4,2,94085,934,971\n",
      "\n",
      "19,10,1246,6810,2,853,4,3,95051,942,979\n",
      "\n",
      "28,10,1581,7073,3,892,4,2,95051,949,986\n",
      "\n",
      "16,20,1979,6680,2,894,3,0,95051,950,988\n",
      "\n",
      "30,24,1893,7115,3,933,4,0,95051,953,991\n",
      "\n",
      "24,10,1598,7011,2,911,3,1,95051,972,1010\n",
      "\n",
      "40,15,1883,7396,2,891,4,3,95051,976,1015\n",
      "\n",
      "31,10,1843,7136,3,918,4,3,95051,991,1030\n",
      "\n",
      "34,19,1659,7226,3,939,2,2,95051,994,1033\n",
      "\n",
      "45,15,1249,7609,3,960,2,2,95051,1000,1040\n",
      "\n",
      "47,21,1871,7693,2,901,2,3,95051,1015,1055\n",
      "\n",
      "36,14,1276,7303,2,925,3,0,95051,1019,1059\n",
      "\n",
      "39,22,1551,7388,2,942,2,2,95051,1024,1064\n",
      "\n",
      "35,12,1943,7249,2,974,2,0,95051,1030,1071\n",
      "\n",
      "38,22,1724,7339,3,975,3,3,95051,1038,1079\n",
      "\n",
      "33,11,1953,7199,3,959,3,2,95051,1042,1083\n",
      "\n",
      "37,13,1874,7333,3,960,3,2,95051,1044,1085\n",
      "\n",
      "32,18,1866,7181,2,854,2,3,95051,1049,1090\n",
      "\n",
      "44,11,1415,7541,3,859,4,0,95051,1059,1101\n",
      "\n",
      "51,19,1382,7841,2,948,3,0,95051,1068,1110\n",
      "\n",
      "50,19,1836,7803,3,949,3,0,95051,1068,1110\n",
      "\n",
      "43,17,1773,7495,2,913,3,1,95051,1071,1113\n",
      "\n",
      "53,23,1289,7873,2,857,3,0,95051,1074,1116\n",
      "\n",
      "55,10,1721,7902,3,890,3,3,95051,1075,1118\n",
      "\n",
      "59,22,1559,8096,2,953,2,3,95051,1080,1123\n",
      "\n",
      "52,25,1535,7847,2,867,3,0,95051,1097,1140\n",
      "\n",
      "58,19,1382,8054,2,883,4,2,94087,1103,1147\n",
      "\n",
      "48,22,1420,7733,3,890,2,1,94087,1114,1158\n",
      "\n",
      "54,12,1401,7897,3,888,4,1,94087,1114,1158\n",
      "\n",
      "41,23,1754,7426,3,917,2,1,94087,1115,1159\n",
      "\n",
      "57,11,1927,7983,3,950,3,1,94087,1116,1160\n",
      "\n",
      "42,21,1836,7458,2,867,4,0,94087,1128,1173\n",
      "\n",
      "69,21,1575,8579,2,962,4,3,94087,1128,1173\n",
      "\n",
      "56,11,1669,7958,3,876,4,1,94087,1130,1175\n",
      "\n",
      "64,12,1249,8378,3,868,4,3,94087,1132,1177\n",
      "\n",
      "65,14,1617,8394,2,850,2,0,94087,1138,1183\n",
      "\n",
      "49,12,1385,7793,2,889,3,0,94087,1138,1183\n",
      "\n",
      "62,19,1672,8318,3,868,2,0,94087,1149,1194\n",
      "\n",
      "60,19,1522,8098,2,903,4,2,94087,1150,1196\n",
      "\n",
      "63,25,1250,8348,2,928,3,0,94087,1163,1209\n",
      "\n",
      "70,16,1739,8585,2,881,3,3,94087,1165,1211\n",
      "\n",
      "76,12,1947,8882,3,954,3,2,94087,1173,1219\n",
      "\n",
      "68,12,1514,8512,3,940,3,3,94087,1173,1219\n",
      "\n",
      "61,13,1432,8121,2,900,3,0,94087,1177,1224\n",
      "\n",
      "67,24,1947,8502,2,857,4,0,94087,1179,1226\n",
      "\n",
      "72,24,1643,8619,2,893,3,1,94087,1180,1227\n",
      "\n",
      "78,25,1558,8942,3,927,4,0,94087,1181,1228\n",
      "\n",
      "80,11,1370,8974,2,883,3,3,94087,1182,1229\n",
      "\n",
      "75,14,1401,8825,3,940,2,2,94087,1184,1231\n",
      "\n",
      "46,11,1639,7660,2,916,2,1,94087,1185,1232\n",
      "\n",
      "79,17,1373,8953,2,851,2,0,94087,1190,1237\n",
      "\n",
      "77,17,1881,8921,3,852,2,0,95014,1194,1241\n",
      "\n",
      "66,25,1358,8446,3,902,2,3,95014,1199,1246\n",
      "\n",
      "90,14,1652,9245,4,879,3,0,95014,1205,1253\n",
      "\n",
      "87,18,1314,9195,4,881,3,0,95014,1219,1267\n",
      "\n",
      "81,18,1524,9081,4,894,3,3,95014,1221,1269\n",
      "\n",
      "71,19,1615,8617,3,889,2,2,95014,1233,1282\n",
      "\n",
      "73,25,1302,8668,3,850,4,2,95014,1240,1289\n",
      "\n",
      "74,17,1680,8698,2,875,3,3,95014,1242,1291\n",
      "\n",
      "100,11,1691,9476,4,857,4,0,95014,1250,1300\n",
      "\n",
      "91,16,1289,9289,4,941,3,3,95014,1252,1302\n",
      "\n",
      "89,21,1994,9215,4,881,4,0,95014,1256,1306\n",
      "\n",
      "95,13,1582,9339,3,856,3,0,95014,1267,1317\n",
      "\n",
      "99,19,1880,9470,3,857,3,3,95014,1269,1319\n",
      "\n",
      "93,25,1298,9309,3,942,3,0,95014,1269,1319\n",
      "\n",
      "85,22,1757,9163,3,861,2,3,95014,1272,1322\n",
      "\n",
      "83,24,1625,9106,3,941,3,3,95014,1275,1326\n",
      "\n",
      "88,22,1324,9211,4,929,2,3,95014,1282,1333\n",
      "\n",
      "98,21,1312,9456,4,915,4,3,95014,1284,1335\n",
      "\n",
      "82,19,1480,9095,4,877,4,1,95014,1288,1339\n",
      "\n",
      "86,19,1704,9179,4,924,3,0,95014,1294,1345\n",
      "\n",
      "92,18,1846,9292,4,920,4,3,95014,1294,1345\n",
      "\n",
      "84,25,1499,9122,4,931,4,0,95014,1300,1352\n",
      "\n",
      "96,11,1981,9350,4,912,2,1,95014,1307,1359\n",
      "\n",
      "94,21,1983,9337,4,862,2,2,95014,1335,1388\n",
      "\n",
      "97,10,1645,9352,4,942,3,3,95014,1336,1389\n",
      "\n"
     ]
    }
   ],
   "source": [
    "# Your code here\n",
    "housing_sort = housing_new[housing_new[:,9].argsort()]\n",
    "print(housing_sort)\n",
    "\n",
    "\n",
    "fixed_file = open(\"my_fixed-housing-data.csv\",\"w\")\n",
    "\n",
    "for i in range(100):\n",
    "    housing_sort_str = [str(x) for x in housing_sort[i]]\n",
    "    myString = \",\".join(housing_sort_str) + \"\\n\"\n",
    "    print(myString)\n",
    "    fixed_file.write(myString)\n",
    "fixed_file.close()"
   ]
  },
  {
   "cell_type": "markdown",
   "metadata": {},
   "source": [
    "# <font color = magenta> NumPy Problem 10 </font>\n",
    "\n",
    "Write a function that takes a long string containing multiple words. Print the same string, except with the words in backwards order. \n",
    "\n",
    "<i>HINT: Use <b>YOUR_STRING<code>.split()</code></b> function<br></i>"
   ]
  },
  {
   "cell_type": "code",
   "execution_count": 186,
   "metadata": {},
   "outputs": [],
   "source": [
    "myString = \"Python for Data Science class is on Saturdays for seven weeks.\""
   ]
  },
  {
   "cell_type": "code",
   "execution_count": 195,
   "metadata": {},
   "outputs": [
    {
     "name": "stdout",
     "output_type": "stream",
     "text": [
      "weeks seven for Saturdays on is class Science Data for Python.\n"
     ]
    }
   ],
   "source": [
    "def str_in_backwards_order(str):\n",
    "    str = str.rstrip(\".\")\n",
    "    str_lst = str.split()\n",
    "    #print(type(str_lst))\n",
    "    str_lst_backwards = str_lst[::-1]\n",
    "    #print(str_lst_backwards)\n",
    "    new_string = \" \".join(str_lst_backwards)\n",
    "    print(new_string + \".\")\n",
    "\n",
    "    \n",
    "str_in_backwards_order(myString)"
   ]
  },
  {
   "cell_type": "code",
   "execution_count": null,
   "metadata": {},
   "outputs": [],
   "source": []
  }
 ],
 "metadata": {
  "kernelspec": {
   "display_name": "Python 3",
   "language": "python",
   "name": "python3"
  },
  "language_info": {
   "codemirror_mode": {
    "name": "ipython",
    "version": 3
   },
   "file_extension": ".py",
   "mimetype": "text/x-python",
   "name": "python",
   "nbconvert_exporter": "python",
   "pygments_lexer": "ipython3",
   "version": "3.6.7"
  }
 },
 "nbformat": 4,
 "nbformat_minor": 2
}
