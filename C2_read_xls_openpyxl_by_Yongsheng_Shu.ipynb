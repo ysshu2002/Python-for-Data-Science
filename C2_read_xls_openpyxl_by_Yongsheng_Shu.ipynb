{
 "cells": [
  {
   "cell_type": "markdown",
   "metadata": {},
   "source": [
    "# Class 2 -- Reading dataset from xlsx using openpyxl"
   ]
  },
  {
   "cell_type": "code",
   "execution_count": 17,
   "metadata": {},
   "outputs": [],
   "source": [
    "# Documentation and help\n",
    "# https://openpyxl.readthedocs.io/en/stable/ \n",
    "# https://openpyxl.readthedocs.io/en/stable/usage.html\n",
    "# https://openpyxl.readthedocs.io/en/stable/tutorial.html"
   ]
  },
  {
   "cell_type": "code",
   "execution_count": 1,
   "metadata": {},
   "outputs": [],
   "source": [
    "from openpyxl import load_workbook"
   ]
  },
  {
   "cell_type": "code",
   "execution_count": 3,
   "metadata": {},
   "outputs": [
    {
     "name": "stdout",
     "output_type": "stream",
     "text": [
      "Sheets: ['States', 'Countries', 'Income']\n",
      "Rows 53\n",
      "Columns 5\n",
      "\n"
     ]
    }
   ],
   "source": [
    "wb = load_workbook(filename=\"xls_for_python.xlsx\", read_only=True)\n",
    "print(\"Sheets:\",wb.sheetnames)\n",
    "ws = wb[\"States\"]\n",
    "row_count = ws.max_row        \n",
    "column_count = ws.max_column\n",
    "print('Rows',row_count)\n",
    "print(\"Columns\",column_count)\n",
    "\n",
    "print()"
   ]
  },
  {
   "cell_type": "code",
   "execution_count": 18,
   "metadata": {},
   "outputs": [
    {
     "name": "stdout",
     "output_type": "stream",
     "text": [
      "['Name', 'Capital', 'Year', 'Population_2000', 'Area']\n",
      "['Alabama', 'Montgomery', 1819, 4447100, 51609]\n",
      "['Alaska', 'Juneau', 1959, 626932, 589757]\n",
      "['Arizona', 'Phoenix', 1912, 5130632, 113909]\n",
      "['Arkansas', 'Little Rock', 1836, 2673400, 53104]\n",
      "['California', 'Sacramento', 1850, 33871648, 158693]\n",
      "['Colorado', 'Denver', 1876, 4301261, 104247]\n",
      "['Connecticut', 'Hartford', 1788, 3405565, 5009]\n",
      "['Delaware', 'Dover', 1787, 783600, 2057]\n",
      "['Florida', 'Tallahassee', 1845, 15982378, 58560]\n",
      "['Georgia', 'Atlanta', 1788, 8186453, 58876]\n",
      "['Hawaii', 'Honolulu', 1959, 1211537, 6450]\n",
      "['Idaho', 'Boise', 1890, 1293953, 83557]\n",
      "['Illinois', 'Springfield', 1818, 12419293, 56400]\n",
      "['Indiana', 'Indianapolis', 1816, 6080485, 36291]\n",
      "['Iowa', 'Des Moines', 1846, 2926324, 56290]\n",
      "['Kansas', 'Topeka', 1861, 2688418, 82264]\n",
      "['Kentucky', 'Frankfort', 1792, 4041769, 40395]\n",
      "['Louisiana', 'Baton Rouge', 1812, 4468976, 48523]\n",
      "['Maine', 'Augusta', 1820, 1274923, 33215]\n",
      "['Maryland', 'Annapolis', 1788, 5296486, 10577]\n",
      "['Massachusetts', 'Boston', 1788, 6349097, 8257]\n",
      "['Michigan', 'Lansing', 1837, 9938444, 58216]\n",
      "['Minnesota', 'Minneapolis', 1858, 4919479, 84068]\n",
      "['Mississippi', 'Jackson', 1817, 2844658, 47716]\n",
      "['Missouri', 'Jefferson City', 1821, 5595211, 69686]\n",
      "['Montana', 'Helena', 1889, 902195, 147138]\n",
      "['Nebraska', 'Lincoln', 1867, 1711263, 77227]\n",
      "['Nevada', 'Carson City', 1864, 1998257, 110540]\n",
      "['New Hampshire', 'Concord', 1788, 1235786, 9304]\n",
      "['New Jersey', 'Trenton', 1787, 8414350, 7836]\n",
      "['New Mexico', 'Santa Fe', 1912, 1819046, 121666]\n",
      "['New York', 'Albany', 1788, 18976457, 49576]\n",
      "['North Carolina', 'Raleigh', 1789, 8049313, 52586]\n",
      "['North Dakota', 'Bismarck', 1889, 642200, 70665]\n",
      "['Ohio', 'Columbus', 1803, 11353140, 41222]\n",
      "['Oklahoma', 'Oklahoma City', 1907, 3450654, 69919]\n",
      "['Oregon', 'Salem', 1859, 3421399, 96981]\n",
      "['Pennsylvania', 'Harrisburg', 1787, 12281054, 45333]\n",
      "['Rhode Island', 'Providence', 1790, 1048319, 1214]\n",
      "['South Carolina', 'Columbia', 1788, 4012012, 31055]\n",
      "['South Dakota', 'Pierre', 1889, 754844, 77047]\n",
      "['Tennessee', 'Memphis', 1796, 5689283, 42244]\n",
      "['Texas', 'Austin', 1845, 20851820, 267338]\n",
      "['Utah', 'Salt Lake City', 1896, 2233169, 84916]\n",
      "['Vermont', 'Montpellier', 1791, 608827, 9609]\n",
      "['Virginia', 'Richmond', 1788, 7078515, 40817]\n",
      "['Washington', 'Olympia', 1889, 5894121, 68192]\n",
      "['West Virginia', 'Charleston', 1863, 1808344, 24181]\n",
      "['Wisconsin', 'Madison', 1848, 5363675, 56154]\n",
      "['Wyoming', 'Cheyenne', 1890, 493782, 97914]\n",
      "[None, None, None, None, None]\n",
      "[None, None, None, None, None]\n"
     ]
    }
   ],
   "source": [
    "for row in ws.rows:\n",
    "    row_values = [cell.value for cell in row]\n",
    "    print(row_values)"
   ]
  },
  {
   "cell_type": "markdown",
   "metadata": {},
   "source": [
    "# Ex1: Modify the above code to list states starting with \"N\""
   ]
  },
  {
   "cell_type": "code",
   "execution_count": 39,
   "metadata": {},
   "outputs": [
    {
     "name": "stdout",
     "output_type": "stream",
     "text": [
      "Nebraska\n",
      "Nevada\n",
      "New Hampshire\n",
      "New Jersey\n",
      "New Mexico\n",
      "New York\n",
      "North Carolina\n",
      "North Dakota\n"
     ]
    }
   ],
   "source": [
    "# Your code here\n",
    "for row in ws.rows:\n",
    "    row_values = [cell.value for cell in row]\n",
    "    if \"Name\" in row_values:\n",
    "            continue\n",
    "    elif None in row_values:\n",
    "            continue\n",
    "    elif row_values[0][0] == \"N\":\n",
    "        print(row_values[0])\n",
    "            "
   ]
  },
  {
   "cell_type": "markdown",
   "metadata": {},
   "source": [
    "# Ex2: List only the states with the highest and lowest geographic area"
   ]
  },
  {
   "cell_type": "code",
   "execution_count": 46,
   "metadata": {},
   "outputs": [
    {
     "name": "stdout",
     "output_type": "stream",
     "text": [
      "The state with highest geographic area is Alaska\n",
      "The state with lowest geographic area is Rhode Island\n"
     ]
    }
   ],
   "source": [
    "# Your code here\n",
    "max_area = 0\n",
    "min_area = 1000000000\n",
    "\n",
    "for row in ws.rows:\n",
    "    row_values = [cell.value for cell in row]\n",
    "    if \"Name\" in row_values:\n",
    "            continue\n",
    "    elif None in row_values:\n",
    "            continue\n",
    "    area = row_values[4] \n",
    "    if area > max_area:\n",
    "        max_area = area\n",
    "    elif area < min_area:\n",
    "        min_area = area\n",
    "#print(max_area, min_area)\n",
    "\n",
    "for row in ws.rows:\n",
    "    row_values = [cell.value for cell in row]\n",
    "    if \"Name\" in row_values:\n",
    "            continue\n",
    "    elif None in row_values:\n",
    "            continue\n",
    "    if row_values[4] == max_area:\n",
    "        print(\"The state with highest geographic area is {}\".format(row_values[0]))\n",
    "    elif row_values[4] == min_area:\n",
    "        print(\"The state with lowest geographic area is {}\".format(row_values[0]))\n"
   ]
  },
  {
   "cell_type": "markdown",
   "metadata": {},
   "source": [
    "# Ex3: Find all countries starting with letter \"C\""
   ]
  },
  {
   "cell_type": "code",
   "execution_count": 49,
   "metadata": {},
   "outputs": [
    {
     "name": "stdout",
     "output_type": "stream",
     "text": [
      "Cambodia\n",
      "Cameroon\n",
      "Canada\n",
      "Cape Verde Islands\n",
      "Cayman Islands\n",
      "Central African Republic\n",
      "Chad\n",
      "Chile\n",
      "China, Hong Kong\n",
      "China, Macau\n",
      "China, People’s Republic\n",
      "China, Taiwan\n",
      "Colombia\n",
      "Comoros\n",
      "Congo, Democratic Republic of\n",
      "Congo, Republic of\n",
      "Cook Islands\n",
      "Costa Rica\n",
      "Cote d’Ivoire\n",
      "Croatia\n",
      "Cuba\n",
      "Cyprus Czech Republic\n"
     ]
    }
   ],
   "source": [
    "# Your code here\n",
    "wb = load_workbook(filename=\"xls_for_python.xlsx\", read_only=True)\n",
    "#print(\"Sheets:\",wb.sheetnames)\n",
    "ws = wb[\"Countries\"]\n",
    "\n",
    "for row in ws.rows:\n",
    "    row_values = [cell.value for cell in row]\n",
    "    if \"Countries\" in row_values:\n",
    "            continue\n",
    "    elif row_values[0][0] == \"C\":\n",
    "        print(row_values[0])"
   ]
  },
  {
   "cell_type": "markdown",
   "metadata": {},
   "source": [
    "# Ex4: Find the average of all state median incomes"
   ]
  },
  {
   "cell_type": "code",
   "execution_count": 76,
   "metadata": {},
   "outputs": [
    {
     "name": "stdout",
     "output_type": "stream",
     "text": [
      "The average of all state median incomes is $56119.61\n"
     ]
    }
   ],
   "source": [
    "# Your code here\n",
    "wb = load_workbook(filename=\"xls_for_python.xlsx\", read_only=True)\n",
    "#print(\"Sheets:\",wb.sheetnames)\n",
    "ws = wb[\"Income\"]\n",
    "\n",
    "state_median_incomes = []\n",
    "\n",
    "for row in ws.rows:\n",
    "    row_values = [cell.value for cell in row]\n",
    "    if \"Median\" in row_values:\n",
    "            continue\n",
    "    state_median_incomes.append(row_values[1])\n",
    "#print(state_median_incomes)  \n",
    "#print(sum(state_median_incomes))\n",
    "#print(len(state_median_incomes))\n",
    "print(\"The average of all state median incomes is ${:0.2f}\".format((sum(state_median_incomes)) / len(state_median_incomes)))"
   ]
  },
  {
   "cell_type": "markdown",
   "metadata": {},
   "source": [
    "# Ex5: Find the median of all state median incomes"
   ]
  },
  {
   "cell_type": "code",
   "execution_count": 79,
   "metadata": {},
   "outputs": [
    {
     "name": "stdout",
     "output_type": "stream",
     "text": [
      "The median of all state median incomes is $54700.0\n"
     ]
    }
   ],
   "source": [
    "from numpy import median\n",
    "print(\"The median of all state median incomes is ${}\".format(median(state_median_incomes)))"
   ]
  },
  {
   "cell_type": "code",
   "execution_count": null,
   "metadata": {},
   "outputs": [],
   "source": []
  }
 ],
 "metadata": {
  "kernelspec": {
   "display_name": "Python 3",
   "language": "python",
   "name": "python3"
  },
  "language_info": {
   "codemirror_mode": {
    "name": "ipython",
    "version": 3
   },
   "file_extension": ".py",
   "mimetype": "text/x-python",
   "name": "python",
   "nbconvert_exporter": "python",
   "pygments_lexer": "ipython3",
   "version": "3.6.7"
  }
 },
 "nbformat": 4,
 "nbformat_minor": 2
}
